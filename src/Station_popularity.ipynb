{
 "cells": [
  {
   "cell_type": "markdown",
   "id": "5e8b904b-309a-47f6-b84a-f49fb031be2c",
   "metadata": {},
   "source": [
    "Station popularity (using trip count)"
   ]
  },
  {
   "cell_type": "code",
   "execution_count": 10,
   "id": "f9b8befd-cb9f-422b-bc04-54d58623fd41",
   "metadata": {},
   "outputs": [
    {
     "name": "stdout",
     "output_type": "stream",
     "text": [
      "Requirement already satisfied: kaleido in /Users/kyle/anaconda3/lib/python3.11/site-packages (0.2.1)\n",
      "Note: you may need to restart the kernel to use updated packages.\n"
     ]
    }
   ],
   "source": [
    "pip install kaleido"
   ]
  },
  {
   "cell_type": "code",
   "execution_count": 11,
   "id": "b43b88ff-98f4-4089-9db2-644304c4a5cf",
   "metadata": {
    "tags": []
   },
   "outputs": [
    {
     "name": "stdout",
     "output_type": "stream",
     "text": [
      "                               Station  Start Count  End Count  Total Trips  \\\n",
      "0    Abbey Orchard Street, Westminster          498        575         1073   \n",
      "1          Abingdon Green, Westminster          418        427          845   \n",
      "2     Albany Street, The Regent's Park          492        416          908   \n",
      "3          Albert Embankment, Vauxhall          309        244          553   \n",
      "4               Albert Gate, Hyde Park          718        585         1303   \n",
      "..                                 ...          ...        ...          ...   \n",
      "365             Wood Street, Guildhall          403        516          919   \n",
      "366          Woodstock Street, Mayfair          234        232          466   \n",
      "367  Wormwood Street, Liverpool Street         2290       2171         4461   \n",
      "368         Worship Street, Shoreditch          692        725         1417   \n",
      "369               Wren Street, Holborn          622        609         1231   \n",
      "\n",
      "     Start/End  Community  \n",
      "0     0.866087          3  \n",
      "1     0.978923          3  \n",
      "2     1.182692          0  \n",
      "3     1.266393          3  \n",
      "4     1.227350          3  \n",
      "..         ...        ...  \n",
      "365   0.781008          1  \n",
      "366   1.008621          3  \n",
      "367   1.054813          2  \n",
      "368   0.954483          1  \n",
      "369   1.021346          0  \n",
      "\n",
      "[370 rows x 6 columns]\n"
     ]
    }
   ],
   "source": [
    "import pandas as pd\n",
    "\n",
    "# Load your trip data with community information\n",
    "file_path = 'Data/Processed data/trip_data_with_communities.csv'  # Update this path if needed\n",
    "df = pd.read_csv(file_path)\n",
    "\n",
    "# Calculate the number of trips where each station was the starting point\n",
    "start_counts = df['Start station'].value_counts().reset_index()\n",
    "start_counts.columns = ['Station', 'Start Count']\n",
    "\n",
    "# Count the number of trips where each station was the ending point\n",
    "end_counts = df['End station'].value_counts().reset_index()\n",
    "end_counts.columns = ['Station', 'End Count']\n",
    "\n",
    "# Merge the counts into a single DataFrame\n",
    "station_trip_counts = pd.merge(start_counts, end_counts, on='Station', how='outer')\n",
    "\n",
    "# Fill any NaN values with 0 (in case a station only appears as either start or end point)\n",
    "station_trip_counts = station_trip_counts.fillna(0)\n",
    "\n",
    "# Calculate the total trips involving each station\n",
    "station_trip_counts['Total Trips'] = station_trip_counts['Start Count'] + station_trip_counts['End Count']\n",
    "\n",
    "# Calculate the Start/End ratio\n",
    "station_trip_counts['Start/End'] = station_trip_counts['Start Count'] / station_trip_counts['End Count']\n",
    "\n",
    "# Merge community information back into the trip counts dataset\n",
    "# Use the 'Start station' and 'Community_start' columns for the merge\n",
    "station_communities = df[['Start station', 'Community_start']].drop_duplicates().rename(\n",
    "    columns={'Start station': 'Station', 'Community_start': 'Community'})\n",
    "\n",
    "# Merge with the trip counts\n",
    "station_trip_counts = pd.merge(station_trip_counts, station_communities, on='Station', how='left')\n",
    "\n",
    "# Display the merged dataset\n",
    "print(station_trip_counts)\n",
    "\n",
    "# Optionally, save the result to a CSV file\n",
    "station_trip_counts.to_csv('Data/Results/station_trip_counts_with_communities.csv', index=False)\n"
   ]
  },
  {
   "cell_type": "code",
   "execution_count": 15,
   "id": "15a8ac85-040f-456c-9736-408255a39670",
   "metadata": {
    "tags": []
   },
   "outputs": [
    {
     "data": {
      "application/vnd.plotly.v1+json": {
       "config": {
        "plotlyServerURL": "https://plot.ly"
       },
       "data": [
        {
         "customdata": [
          [
           498,
           575,
           1073
          ],
          [
           418,
           427,
           845
          ],
          [
           492,
           416,
           908
          ],
          [
           309,
           244,
           553
          ],
          [
           718,
           585,
           1303
          ],
          [
           1254,
           1194,
           2448
          ],
          [
           785,
           788,
           1573
          ],
          [
           486,
           460,
           946
          ],
          [
           220,
           266,
           486
          ],
          [
           2454,
           2427,
           4881
          ],
          [
           396,
           423,
           819
          ],
          [
           524,
           563,
           1087
          ],
          [
           546,
           435,
           981
          ],
          [
           751,
           676,
           1427
          ],
          [
           798,
           849,
           1647
          ],
          [
           554,
           676,
           1230
          ],
          [
           611,
           596,
           1207
          ],
          [
           1128,
           1067,
           2195
          ],
          [
           773,
           777,
           1550
          ],
          [
           1169,
           1229,
           2398
          ],
          [
           561,
           557,
           1118
          ],
          [
           406,
           364,
           770
          ],
          [
           350,
           329,
           679
          ],
          [
           258,
           290,
           548
          ],
          [
           580,
           527,
           1107
          ],
          [
           509,
           437,
           946
          ],
          [
           473,
           517,
           990
          ],
          [
           350,
           378,
           728
          ],
          [
           792,
           776,
           1568
          ],
          [
           750,
           743,
           1493
          ],
          [
           957,
           902,
           1859
          ],
          [
           762,
           735,
           1497
          ],
          [
           517,
           529,
           1046
          ],
          [
           568,
           573,
           1141
          ],
          [
           1066,
           1097,
           2163
          ],
          [
           488,
           472,
           960
          ],
          [
           504,
           495,
           999
          ],
          [
           442,
           475,
           917
          ],
          [
           1106,
           740,
           1846
          ],
          [
           236,
           258,
           494
          ],
          [
           576,
           663,
           1239
          ],
          [
           849,
           735,
           1584
          ],
          [
           378,
           344,
           722
          ],
          [
           579,
           628,
           1207
          ],
          [
           249,
           253,
           502
          ],
          [
           875,
           768,
           1643
          ],
          [
           649,
           595,
           1244
          ],
          [
           570,
           582,
           1152
          ],
          [
           235,
           170,
           405
          ],
          [
           665,
           747,
           1412
          ],
          [
           685,
           711,
           1396
          ],
          [
           1238,
           1672,
           2910
          ],
          [
           231,
           221,
           452
          ],
          [
           376,
           407,
           783
          ],
          [
           1033,
           1083,
           2116
          ],
          [
           444,
           455,
           899
          ],
          [
           428,
           436,
           864
          ],
          [
           161,
           146,
           307
          ],
          [
           349,
           254,
           603
          ],
          [
           179,
           199,
           378
          ],
          [
           228,
           195,
           423
          ],
          [
           416,
           423,
           839
          ],
          [
           600,
           533,
           1133
          ],
          [
           320,
           340,
           660
          ],
          [
           674,
           552,
           1226
          ],
          [
           508,
           636,
           1144
          ],
          [
           340,
           293,
           633
          ],
          [
           337,
           419,
           756
          ],
          [
           405,
           417,
           822
          ],
          [
           1562,
           1716,
           3278
          ],
          [
           193,
           170,
           363
          ],
          [
           518,
           560,
           1078
          ],
          [
           449,
           475,
           924
          ],
          [
           393,
           393,
           786
          ],
          [
           358,
           212,
           570
          ],
          [
           205,
           203,
           408
          ],
          [
           830,
           871,
           1701
          ],
          [
           242,
           390,
           632
          ],
          [
           310,
           318,
           628
          ],
          [
           517,
           258,
           775
          ],
          [
           22,
           15,
           37
          ],
          [
           503,
           425,
           928
          ],
          [
           276,
           236,
           512
          ],
          [
           322,
           383,
           705
          ],
          [
           412,
           478,
           890
          ],
          [
           517,
           438,
           955
          ],
          [
           388,
           370,
           758
          ],
          [
           972,
           1016,
           1988
          ],
          [
           538,
           498,
           1036
          ],
          [
           542,
           500,
           1042
          ],
          [
           171,
           157,
           328
          ],
          [
           366,
           398,
           764
          ],
          [
           1202,
           1190,
           2392
          ],
          [
           884,
           801,
           1685
          ],
          [
           274,
           306,
           580
          ],
          [
           219,
           216,
           435
          ],
          [
           346,
           318,
           664
          ],
          [
           952,
           737,
           1689
          ],
          [
           741,
           744,
           1485
          ],
          [
           421,
           325,
           746
          ],
          [
           787,
           883,
           1670
          ],
          [
           1552,
           1670,
           3222
          ],
          [
           1274,
           997,
           2271
          ],
          [
           636,
           667,
           1303
          ],
          [
           192,
           184,
           376
          ],
          [
           302,
           266,
           568
          ],
          [
           587,
           580,
           1167
          ],
          [
           394,
           348,
           742
          ],
          [
           317,
           342,
           659
          ],
          [
           229,
           256,
           485
          ],
          [
           710,
           704,
           1414
          ],
          [
           1015,
           890,
           1905
          ],
          [
           449,
           501,
           950
          ],
          [
           403,
           420,
           823
          ],
          [
           487,
           473,
           960
          ],
          [
           421,
           432,
           853
          ],
          [
           654,
           570,
           1224
          ],
          [
           165,
           141,
           306
          ],
          [
           458,
           434,
           892
          ],
          [
           703,
           665,
           1368
          ],
          [
           320,
           320,
           640
          ],
          [
           1253,
           1524,
           2777
          ],
          [
           1191,
           1024,
           2215
          ],
          [
           501,
           504,
           1005
          ],
          [
           589,
           642,
           1231
          ],
          [
           373,
           316,
           689
          ],
          [
           639,
           632,
           1271
          ],
          [
           465,
           590,
           1055
          ],
          [
           466,
           570,
           1036
          ],
          [
           451,
           506,
           957
          ],
          [
           459,
           544,
           1003
          ],
          [
           446,
           495,
           941
          ],
          [
           287,
           260,
           547
          ],
          [
           442,
           483,
           925
          ],
          [
           221,
           205,
           426
          ],
          [
           504,
           462,
           966
          ],
          [
           495,
           573,
           1068
          ],
          [
           504,
           517,
           1021
          ],
          [
           468,
           482,
           950
          ],
          [
           594,
           584,
           1178
          ],
          [
           14,
           5,
           19
          ],
          [
           569,
           546,
           1115
          ],
          [
           231,
           274,
           505
          ],
          [
           743,
           508,
           1251
          ],
          [
           420,
           373,
           793
          ],
          [
           969,
           877,
           1846
          ],
          [
           565,
           482,
           1047
          ],
          [
           517,
           551,
           1068
          ],
          [
           470,
           448,
           918
          ],
          [
           457,
           435,
           892
          ],
          [
           742,
           869,
           1611
          ],
          [
           634,
           727,
           1361
          ],
          [
           365,
           298,
           663
          ],
          [
           246,
           165,
           411
          ],
          [
           156,
           185,
           341
          ],
          [
           108,
           122,
           230
          ],
          [
           359,
           363,
           722
          ],
          [
           220,
           217,
           437
          ],
          [
           864,
           805,
           1669
          ],
          [
           808,
           704,
           1512
          ],
          [
           460,
           481,
           941
          ],
          [
           375,
           303,
           678
          ],
          [
           308,
           301,
           609
          ],
          [
           286,
           284,
           570
          ],
          [
           579,
           496,
           1075
          ],
          [
           378,
           359,
           737
          ],
          [
           483,
           431,
           914
          ],
          [
           822,
           828,
           1650
          ],
          [
           889,
           918,
           1807
          ],
          [
           803,
           908,
           1711
          ],
          [
           504,
           568,
           1072
          ],
          [
           1160,
           1456,
           2616
          ],
          [
           291,
           241,
           532
          ],
          [
           1333,
           1870,
           3203
          ],
          [
           591,
           626,
           1217
          ],
          [
           489,
           542,
           1031
          ],
          [
           435,
           602,
           1037
          ],
          [
           611,
           705,
           1316
          ],
          [
           806,
           834,
           1640
          ],
          [
           385,
           351,
           736
          ],
          [
           292,
           268,
           560
          ],
          [
           928,
           791,
           1719
          ],
          [
           352,
           297,
           649
          ],
          [
           809,
           761,
           1570
          ],
          [
           488,
           492,
           980
          ],
          [
           356,
           337,
           693
          ],
          [
           160,
           152,
           312
          ],
          [
           410,
           449,
           859
          ],
          [
           159,
           153,
           312
          ],
          [
           386,
           406,
           792
          ],
          [
           663,
           922,
           1585
          ],
          [
           214,
           186,
           400
          ],
          [
           142,
           61,
           203
          ],
          [
           321,
           336,
           657
          ],
          [
           420,
           452,
           872
          ],
          [
           897,
           849,
           1746
          ],
          [
           444,
           413,
           857
          ],
          [
           438,
           404,
           842
          ],
          [
           517,
           451,
           968
          ],
          [
           790,
           790,
           1580
          ],
          [
           623,
           695,
           1318
          ],
          [
           892,
           1027,
           1919
          ],
          [
           719,
           684,
           1403
          ],
          [
           571,
           517,
           1088
          ],
          [
           230,
           193,
           423
          ],
          [
           499,
           475,
           974
          ],
          [
           219,
           170,
           389
          ],
          [
           1101,
           778,
           1879
          ],
          [
           1289,
           1306,
           2595
          ],
          [
           249,
           157,
           406
          ],
          [
           360,
           332,
           692
          ],
          [
           476,
           455,
           931
          ],
          [
           383,
           325,
           708
          ],
          [
           161,
           192,
           353
          ],
          [
           444,
           486,
           930
          ],
          [
           342,
           344,
           686
          ],
          [
           598,
           642,
           1240
          ],
          [
           782,
           858,
           1640
          ],
          [
           1294,
           1454,
           2748
          ],
          [
           535,
           419,
           954
          ],
          [
           1015,
           953,
           1968
          ],
          [
           330,
           415,
           745
          ],
          [
           748,
           705,
           1453
          ],
          [
           319,
           304,
           623
          ],
          [
           510,
           499,
           1009
          ],
          [
           510,
           492,
           1002
          ],
          [
           369,
           268,
           637
          ],
          [
           1074,
           1231,
           2305
          ],
          [
           337,
           334,
           671
          ],
          [
           297,
           345,
           642
          ],
          [
           290,
           221,
           511
          ],
          [
           804,
           798,
           1602
          ],
          [
           289,
           325,
           614
          ],
          [
           459,
           483,
           942
          ],
          [
           107,
           107,
           214
          ],
          [
           735,
           710,
           1445
          ],
          [
           1229,
           1336,
           2565
          ],
          [
           484,
           549,
           1033
          ],
          [
           739,
           670,
           1409
          ],
          [
           598,
           585,
           1183
          ],
          [
           809,
           889,
           1698
          ],
          [
           390,
           349,
           739
          ],
          [
           420,
           470,
           890
          ],
          [
           226,
           209,
           435
          ],
          [
           554,
           632,
           1186
          ],
          [
           301,
           369,
           670
          ],
          [
           212,
           212,
           424
          ],
          [
           629,
           582,
           1211
          ],
          [
           218,
           239,
           457
          ],
          [
           638,
           530,
           1168
          ],
          [
           252,
           323,
           575
          ],
          [
           568,
           447,
           1015
          ],
          [
           314,
           317,
           631
          ],
          [
           475,
           434,
           909
          ],
          [
           596,
           551,
           1147
          ],
          [
           365,
           356,
           721
          ],
          [
           537,
           645,
           1182
          ],
          [
           283,
           303,
           586
          ],
          [
           442,
           524,
           966
          ],
          [
           1184,
           1699,
           2883
          ],
          [
           1162,
           1178,
           2340
          ],
          [
           489,
           612,
           1101
          ],
          [
           547,
           515,
           1062
          ],
          [
           502,
           472,
           974
          ],
          [
           370,
           329,
           699
          ],
          [
           1022,
           1004,
           2026
          ],
          [
           559,
           511,
           1070
          ],
          [
           226,
           151,
           377
          ],
          [
           347,
           224,
           571
          ],
          [
           336,
           351,
           687
          ],
          [
           356,
           307,
           663
          ],
          [
           526,
           456,
           982
          ],
          [
           96,
           109,
           205
          ],
          [
           175,
           176,
           351
          ],
          [
           783,
           794,
           1577
          ],
          [
           457,
           531,
           988
          ],
          [
           702,
           621,
           1323
          ],
          [
           389,
           342,
           731
          ],
          [
           189,
           232,
           421
          ],
          [
           543,
           546,
           1089
          ],
          [
           764,
           741,
           1505
          ],
          [
           406,
           391,
           797
          ],
          [
           311,
           294,
           605
          ],
          [
           486,
           509,
           995
          ],
          [
           702,
           662,
           1364
          ],
          [
           502,
           491,
           993
          ],
          [
           259,
           245,
           504
          ],
          [
           565,
           592,
           1157
          ],
          [
           682,
           650,
           1332
          ],
          [
           666,
           704,
           1370
          ],
          [
           1187,
           1415,
           2602
          ],
          [
           266,
           372,
           638
          ],
          [
           176,
           204,
           380
          ],
          [
           556,
           558,
           1114
          ],
          [
           537,
           513,
           1050
          ],
          [
           844,
           870,
           1714
          ],
          [
           332,
           351,
           683
          ],
          [
           317,
           247,
           564
          ],
          [
           508,
           473,
           981
          ],
          [
           694,
           1001,
           1695
          ],
          [
           283,
           322,
           605
          ],
          [
           347,
           401,
           748
          ],
          [
           968,
           1513,
           2481
          ],
          [
           462,
           356,
           818
          ],
          [
           226,
           197,
           423
          ],
          [
           391,
           340,
           731
          ],
          [
           188,
           237,
           425
          ],
          [
           465,
           513,
           978
          ],
          [
           573,
           615,
           1188
          ],
          [
           204,
           183,
           387
          ],
          [
           743,
           722,
           1465
          ],
          [
           737,
           771,
           1508
          ],
          [
           919,
           1025,
           1944
          ],
          [
           782,
           905,
           1687
          ],
          [
           756,
           804,
           1560
          ],
          [
           554,
           518,
           1072
          ],
          [
           511,
           450,
           961
          ],
          [
           590,
           658,
           1248
          ],
          [
           730,
           590,
           1320
          ],
          [
           534,
           549,
           1083
          ],
          [
           518,
           414,
           932
          ],
          [
           658,
           775,
           1433
          ],
          [
           889,
           799,
           1688
          ],
          [
           312,
           366,
           678
          ],
          [
           442,
           618,
           1060
          ],
          [
           233,
           204,
           437
          ],
          [
           832,
           785,
           1617
          ],
          [
           1056,
           1141,
           2197
          ],
          [
           189,
           210,
           399
          ],
          [
           446,
           513,
           959
          ],
          [
           662,
           614,
           1276
          ],
          [
           385,
           372,
           757
          ],
          [
           510,
           492,
           1002
          ],
          [
           626,
           644,
           1270
          ],
          [
           504,
           537,
           1041
          ],
          [
           58,
           49,
           107
          ],
          [
           138,
           123,
           261
          ],
          [
           347,
           247,
           594
          ],
          [
           213,
           199,
           412
          ],
          [
           486,
           421,
           907
          ],
          [
           495,
           439,
           934
          ],
          [
           689,
           619,
           1308
          ],
          [
           722,
           746,
           1468
          ],
          [
           1405,
           1415,
           2820
          ],
          [
           711,
           800,
           1511
          ],
          [
           580,
           406,
           986
          ],
          [
           194,
           260,
           454
          ],
          [
           368,
           369,
           737
          ],
          [
           456,
           488,
           944
          ],
          [
           2984,
           2918,
           5902
          ],
          [
           2360,
           1040,
           3400
          ],
          [
           4659,
           4998,
           9657
          ],
          [
           824,
           793,
           1617
          ],
          [
           380,
           424,
           804
          ],
          [
           322,
           294,
           616
          ],
          [
           880,
           917,
           1797
          ],
          [
           799,
           801,
           1600
          ],
          [
           920,
           654,
           1574
          ],
          [
           762,
           762,
           1524
          ],
          [
           99,
           103,
           202
          ],
          [
           792,
           867,
           1659
          ],
          [
           295,
           295,
           590
          ],
          [
           790,
           901,
           1691
          ],
          [
           1038,
           1151,
           2189
          ],
          [
           571,
           464,
           1035
          ],
          [
           403,
           516,
           919
          ],
          [
           234,
           232,
           466
          ],
          [
           2290,
           2171,
           4461
          ],
          [
           692,
           725,
           1417
          ],
          [
           622,
           609,
           1231
          ]
         ],
         "hovertemplate": "<b>%{hovertext}</b><br><br>Station Index=%{x}<br>Start/End Ratio=%{y}<br>Start Count=%{customdata[0]}<br>End Count=%{customdata[1]}<br>Total Trips=%{customdata[2]}<extra></extra>",
         "hovertext": [
          "Abbey Orchard Street, Westminster",
          "Abingdon Green, Westminster",
          "Albany Street, The Regent's Park",
          "Albert Embankment, Vauxhall",
          "Albert Gate, Hyde Park",
          "Aldersgate Street, Barbican",
          "Allington Street, Victoria",
          "Ampton Street , Clerkenwell",
          "Archbishop's Park, Waterloo",
          "Argyle Street, Kings Cross",
          "Arundel Street, Temple",
          "Ashley Place, Victoria",
          "Baker Street, Marylebone",
          "Baldwin Street, St. Luke's",
          "Bank of England Museum, Bank",
          "Bankside Mix, Bankside",
          "Barbican Centre, Barbican",
          "Bath Street, St. Luke's",
          "Bayley Street , Bloomsbury",
          "Baylis Road, Waterloo",
          "Beaumont Street, Marylebone",
          "Bedford Way, Bloomsbury",
          "Belgrave Road, Victoria",
          "Belgrave Square, Belgravia",
          "Bell Lane, Liverpool Street",
          "Bell Street , Marylebone",
          "Belvedere Road 1, South Bank",
          "Belvedere Road 2, South Bank",
          "Bermondsey Street, Bermondsey",
          "Berry Street, Clerkenwell",
          "Bethnal Green Road, Shoreditch",
          "Birkenhead Street, King's Cross",
          "Black Prince Road, Vauxhall",
          "Blackfriars Road, Southwark",
          "Blackfriars Station, St. Paul's",
          "Bolsover Street, Fitzrovia",
          "Borough High Street, The Borough",
          "Borough Road, Elephant & Castle",
          "Boston Place, Marylebone",
          "Bourne Street, Belgravia",
          "Bouverie Street, Temple",
          "Braham Street, Aldgate",
          "Brandon Street, Walworth",
          "Breams Buildings, Holborn",
          "Brick Lane Market, Shoreditch",
          "Bricklayers Arms, Borough",
          "British Museum, Bloomsbury",
          "Broadcasting House, Marylebone",
          "Broadley Terrace, Marylebone",
          "Broadwick Street, Soho",
          "Brunswick Square, Bloomsbury",
          "Brushfield Street, Liverpool Street",
          "Bruton Street, Mayfair",
          "Buckingham Gate, Westminster",
          "Bunhill Row, Moorgate",
          "Bury Place, Holborn",
          "Butler Place, Westminster",
          "Buxton Street 1, Shoreditch",
          "Cadogan Gardens, Chelsea",
          "Cadogan Place, Knightsbridge",
          "Calshot Street , King's Cross",
          "Carey Street, Holborn",
          "Cartwright Gardens , Bloomsbury",
          "Central House, Aldgate",
          "Chadwell Street, Angel",
          "Chapel Place, Marylebone",
          "Charlbert Street, St. John's Wood",
          "Charles II Street, West End",
          "Charlotte Street, Fitzrovia",
          "Cheapside, Bank",
          "Chelsea Green, Chelsea",
          "Chicheley Street, South Bank",
          "Christopher Street, Liverpool Street",
          "City Road, Angel",
          "Claremont Square, Angel",
          "Clarges Street, Mayfair",
          "Clerkenwell Green, Clerkenwell",
          "Clifford Street, Mayfair",
          "Clifton Street, Shoreditch",
          "Cloudesley Road, Angel",
          "Colombo Street, Southwark",
          "Columbia Road, Shoreditch",
          "Commercial Street, Shoreditch",
          "Concert Hall Approach 1, South Bank",
          "Concert Hall Approach 2, South Bank",
          "Coram Street, Bloomsbury",
          "Cotton Garden Estate, Kennington",
          "Craven Street, Strand",
          "Crawford Street, Marylebone",
          "Crimscott Street, Bermondsey",
          "Crinan Street, King's Cross",
          "Cromer Street, Bloomsbury",
          "Crosswall, Tower",
          "Curlew Street, Shad Thames",
          "Curzon Street, Mayfair",
          "Denyer Street, Knightsbridge",
          "Dickens Square, Borough",
          "Doric Way , Somers Town",
          "Dorset Square, Marylebone",
          "Drummond Street , Euston",
          "Drury Lane, Covent Garden",
          "Duke Street Hill, London Bridge",
          "Eagle Wharf Road, Hoxton",
          "Earnshaw Street , Covent Garden",
          "Eaton Square (South), Belgravia",
          "Ebury Bridge, Pimlico",
          "Eccleston Place, Victoria",
          "Edgware Road Station, Marylebone",
          "Elizabeth Bridge, Victoria",
          "Embankment (Savoy), Strand",
          "Empire Square, The Borough",
          "Endsleigh Gardens, Euston",
          "Euston Road, Euston",
          "Euston Square Gardens, Euston",
          "Eversholt Street , Camden Town",
          "Falkirk Street, Hoxton",
          "Fanshaw Street, Hoxton",
          "Farm Street, Mayfair",
          "Farringdon Lane, Clerkenwell",
          "Farringdon Street, Holborn",
          "Fashion Street, Whitechapel",
          "Finsbury Circus, Liverpool Street",
          "Finsbury Leisure Centre, St. Luke's",
          "Finsbury Library , Finsbury",
          "Finsbury Square , Moorgate",
          "Fire Brigade Pier, Vauxhall",
          "Foley Street, Fitzrovia",
          "Fore Street Avenue, Guildhall",
          "Fore Street, Guildhall",
          "Fournier Street, Whitechapel",
          "Frith Street, Soho",
          "Gaywood  Street, Elephant & Castle",
          "George Place Mews, Marylebone",
          "George Street, Marylebone",
          "Geraldine Street, Elephant & Castle",
          "Gloucester Street, Pimlico",
          "Godliman Street, St. Paul's",
          "Golden Lane, Barbican",
          "Golden Square, Soho",
          "Good's Way, King's Cross",
          "Goswell Road (City Uni), Finsbury",
          "Gower Place , Euston",
          "Grafton Street, Mayfair",
          "Graham Street, Angel",
          "Granby Street, Shoreditch",
          "Great Dover Street, The Borough",
          "Great Percy Street, Clerkenwell",
          "Great Russell Street, Bloomsbury",
          "Great Suffolk Street, The Borough",
          "Great Titchfield Street, Fitzrovia",
          "Great Tower Street, Monument",
          "Green Park Station, Mayfair",
          "Green Street, Mayfair",
          "Greenberry Street, St.John's Wood",
          "Greycoat Street , Westminster",
          "Grosvenor Crescent, Belgravia",
          "Grosvenor Square, Mayfair",
          "Guildhouse Street, Victoria",
          "Guilford Street , Bloomsbury",
          "Hampstead Road, Euston",
          "Hampton Street, Walworth",
          "Hardwick Street, Clerkenwell",
          "Harper Road, The Borough",
          "Harriet Street, Knightsbridge",
          "Harrington Square 1, Camden Town",
          "Harris Academy, Bermondsey",
          "Harrowby Street, Marylebone",
          "Hatton Garden, Holborn",
          "Hatton Wall, Holborn",
          "High Holborn , Covent Garden",
          "Hinde Street, Marylebone",
          "Holborn Circus, Holborn",
          "Holy Trinity Brompton, Knightsbridge",
          "Hop Exchange, The Borough",
          "Horseferry Road, Westminster",
          "Houghton Street, Strand",
          "Houndsditch, Aldgate",
          "Howick Place, Westminster",
          "Howland Street, Fitzrovia",
          "Hoxton Station, Hoxton",
          "Hoxton Street, Hoxton",
          "Hyde Park Corner, Hyde Park",
          "Jewry Street, Aldgate",
          "Kennington Cross, Kennington",
          "Kennington Road, Vauxhall",
          "Kennington Station, Kennington",
          "Killick Street, King's Cross",
          "King Edward Street, St Pauls",
          "King Edward Walk, Waterloo",
          "Kings Gate House, Westminster",
          "Kingsway Southbound, Strand",
          "Kingsway, Covent Garden",
          "Knightsbridge, Hyde Park",
          "LSBU (Borough Road), Elephant & Castle",
          "Lambeth North Station, Waterloo",
          "Lambeth Palace Road, Waterloo",
          "Lambeth Road, Vauxhall",
          "Lavington Street, Bankside",
          "Leman Street, Aldgate",
          "Leonard Circus , Shoreditch",
          "Lincoln's Inn Fields, Holborn",
          "Little Argyll Street, West End",
          "Lollard Street, Vauxhall",
          "Long Lane , Bermondsey",
          "Longford Street, The Regent's Park",
          "Lower Marsh, Waterloo",
          "Lower Thames Street, Monument",
          "Macclesfield Rd, St Lukes",
          "Malet Street, Bloomsbury",
          "Mallory Street, Marylebone",
          "Margery Street, Clerkenwell",
          "Marylebone Lane, Marylebone",
          "Millbank Tower, Pimlico",
          "Millennium Hotel, Mayfair",
          "Milroy Walk, South Bank",
          "Montpelier Street, Knightsbridge",
          "Monument Street, Monument",
          "Moor Street, Soho",
          "Moorfields, Moorgate",
          "Murray Grove , Hoxton",
          "Museum of London, Barbican",
          "New Cavendish Street, Marylebone",
          "New Fetter Lane, Holborn",
          "New Globe Walk, Bankside",
          "New Inn Yard, Shoreditch",
          "New Kent Road, The Borough",
          "New North Road 2, Hoxton",
          "Newgate Street , St. Paul's",
          "Newton Street, Covent Garden",
          "North Audley Street, Mayfair",
          "Northdown Street, King's Cross",
          "Northington Street , Holborn",
          "Northumberland Avenue, Strand",
          "Norton Folgate, Liverpool Street",
          "Nutford Place, Marylebone",
          "Old Quebec Street, Marylebone",
          "Old Street Station, St. Luke's",
          "Ontario Street, Elephant & Castle",
          "Ossulston Street, Somers Town",
          "Paddington Street, Marylebone",
          "Page Street, Westminster",
          "Palissy Street, Shoreditch",
          "Pall Mall East, West End",
          "Pancras Road, King's Cross",
          "Panton Street, West End",
          "Park Lane , Hyde Park",
          "Park Lane, Mayfair",
          "Park Road (Baker Street), The Regent's Park",
          "Park Street, Bankside",
          "Percival Street, Finsbury",
          "Pindar Street, Liverpool Street",
          "Pitfield Street Central, Hoxton",
          "Pont Street, Knightsbridge",
          "Porchester Place, Paddington",
          "Portland Place, Marylebone",
          "Portman Square, Marylebone",
          "Portugal Street, Holborn",
          "Poured Lines, Bankside",
          "Queen Mother Sports Centre, Victoria",
          "Queen Street 1, Bank",
          "Queen Street 2, Bank",
          "Queen Victoria Street, St. Paul's",
          "Rampayne Street, Pimlico",
          "Rathbone Street, Fitzrovia",
          "Red Lion Square, Holborn",
          "Red Lion Street, Holborn",
          "Regency Street, Westminster",
          "Risinghill Street, Angel",
          "River Street , Clerkenwell",
          "Rochester Row, Westminster",
          "Rodney Road , Walworth",
          "Roscoe Street, St. Luke's",
          "Royal Avenue 1, Chelsea",
          "Royal Avenue 2, Chelsea",
          "Russell Square Station, Bloomsbury",
          "Sackville Street, Mayfair",
          "Sadlers Sports Centre, Finsbury",
          "Sail Street, Vauxhall",
          "Sancroft Street, Vauxhall",
          "Scala Street, Fitzrovia",
          "Sea Containers, South Bank",
          "Sedding Street, Sloane Square",
          "Seville Street, Knightsbridge",
          "Seymour Place, Marylebone",
          "Shoreditch High Street, Shoreditch",
          "Shouldham Street, Marylebone",
          "Sloane Avenue, Knightsbridge",
          "Smith Square, Westminster",
          "Snow Hill, Farringdon",
          "Snowsfields, London Bridge",
          "Soho Square , Soho",
          "Somerset House, Strand",
          "South Audley Street, Mayfair",
          "Southampton Place, Holborn",
          "Southampton Street, Strand",
          "Southwark Station 2, Southwark",
          "Southwark Street, Bankside",
          "Southwick Street, Paddington",
          "St Mary's Hospital, Paddington",
          "St. Bride Street, Holborn",
          "St. Chad's Street, King's Cross",
          "St. George Street, Mayfair",
          "St. James's Square, St. James's",
          "St. John Street, Finsbury",
          "St. John's Wood Church, The Regent's Park",
          "St. Katharine's Way, Tower",
          "St. Martin's Street, West End",
          "St. Mary Axe, Aldgate",
          "Stamford Street, South Bank",
          "Stanhope Gate, Mayfair",
          "Store Street, Bloomsbury",
          "Storey's Gate, Westminster",
          "Strand, Strand",
          "Strata, Elephant & Castle",
          "Sun Street, Liverpool Street",
          "Swan Street, The Borough",
          "Tachbrook Street, Victoria",
          "Tallis Street, Temple",
          "Tanner Street, Bermondsey",
          "Tate Modern, Bankside",
          "Tavistock Place, Bloomsbury",
          "Tavistock Street, Covent Garden",
          "Taviton Street, Bloomsbury",
          "Temple Gardens, Temple",
          "The Guildhall, Guildhall",
          "The Tennis Courts, The Regent's Park",
          "Theobald's Road , Holborn",
          "Tooley Street, Bermondsey",
          "Torrens Street, Angel",
          "Tower Gardens , Tower",
          "Tower Wharf, Bermondsey",
          "Triangle Car Park, Hyde Park",
          "Tyers Gate, Bermondsey",
          "Tysoe Street, Clerkenwell",
          "Union Street, The Borough",
          "Upper Grosvenor Street, Mayfair",
          "Victoria & Albert Museum, South Kensington",
          "Victory Place, Walworth",
          "Vincent Square, Westminster",
          "Vincent Street, Pimlico",
          "Walnut Tree Walk, Vauxhall",
          "Walworth Square, Walworth",
          "Wardour Street, Soho",
          "Warren Street Station, Euston",
          "Warwick Row, Westminster",
          "Warwick Square, Pimlico",
          "Waterloo Bridge, South Bank",
          "Waterloo Place, St. James's",
          "Waterloo Road, South Bank",
          "Waterloo Station 1, Waterloo",
          "Waterloo Station 2, Waterloo",
          "Waterloo Station 3, Waterloo",
          "Webber Street , Southwark",
          "Wellington Arch, Hyde Park",
          "Wellington Row, Bethnal Green",
          "Wellington Street , Strand",
          "Wells Street, Fitzrovia",
          "Wenlock Road , Hoxton",
          "West Smithfield Rotunda, Farringdon",
          "Westminster Bridge Road, Elephant & Castle",
          "Westminster Pier, Westminster",
          "Westminster University, Marylebone",
          "Whitehall Place, Strand",
          "William IV Street, Strand",
          "Windsor Terrace, Hoxton",
          "Wood Street, Guildhall",
          "Woodstock Street, Mayfair",
          "Wormwood Street, Liverpool Street",
          "Worship Street, Shoreditch",
          "Wren Street, Holborn"
         ],
         "legendgroup": "",
         "marker": {
          "color": "#636efa",
          "symbol": "circle"
         },
         "mode": "markers",
         "name": "",
         "orientation": "v",
         "showlegend": false,
         "type": "scatter",
         "x": [
          0,
          1,
          2,
          3,
          4,
          5,
          6,
          7,
          8,
          9,
          10,
          11,
          12,
          13,
          14,
          15,
          16,
          17,
          18,
          19,
          20,
          21,
          22,
          23,
          24,
          25,
          26,
          27,
          28,
          29,
          30,
          31,
          32,
          33,
          34,
          35,
          36,
          37,
          38,
          39,
          40,
          41,
          42,
          43,
          44,
          45,
          46,
          47,
          48,
          49,
          50,
          51,
          52,
          53,
          54,
          55,
          56,
          57,
          58,
          59,
          60,
          61,
          62,
          63,
          64,
          65,
          66,
          67,
          68,
          69,
          70,
          71,
          72,
          73,
          74,
          75,
          76,
          77,
          78,
          79,
          80,
          81,
          82,
          83,
          84,
          85,
          86,
          87,
          88,
          89,
          90,
          91,
          92,
          93,
          94,
          95,
          96,
          97,
          98,
          99,
          100,
          101,
          102,
          103,
          104,
          105,
          106,
          107,
          108,
          109,
          110,
          111,
          112,
          113,
          114,
          115,
          116,
          117,
          118,
          119,
          120,
          121,
          122,
          123,
          124,
          125,
          126,
          127,
          128,
          129,
          130,
          131,
          132,
          133,
          134,
          135,
          136,
          137,
          138,
          139,
          140,
          141,
          142,
          143,
          144,
          145,
          146,
          147,
          148,
          149,
          150,
          151,
          152,
          153,
          154,
          155,
          156,
          157,
          158,
          159,
          160,
          161,
          162,
          163,
          164,
          165,
          166,
          167,
          168,
          169,
          170,
          171,
          172,
          173,
          174,
          175,
          176,
          177,
          178,
          179,
          180,
          181,
          182,
          183,
          184,
          185,
          186,
          187,
          188,
          189,
          190,
          191,
          192,
          193,
          194,
          195,
          196,
          197,
          198,
          199,
          200,
          201,
          202,
          203,
          204,
          205,
          206,
          207,
          208,
          209,
          210,
          211,
          212,
          213,
          214,
          215,
          216,
          217,
          218,
          219,
          220,
          221,
          222,
          223,
          224,
          225,
          226,
          227,
          228,
          229,
          230,
          231,
          232,
          233,
          234,
          235,
          236,
          237,
          238,
          239,
          240,
          241,
          242,
          243,
          244,
          245,
          246,
          247,
          248,
          249,
          250,
          251,
          252,
          253,
          254,
          255,
          256,
          257,
          258,
          259,
          260,
          261,
          262,
          263,
          264,
          265,
          266,
          267,
          268,
          269,
          270,
          271,
          272,
          273,
          274,
          275,
          276,
          277,
          278,
          279,
          280,
          281,
          282,
          283,
          284,
          285,
          286,
          287,
          288,
          289,
          290,
          291,
          292,
          293,
          294,
          295,
          296,
          297,
          298,
          299,
          300,
          301,
          302,
          303,
          304,
          305,
          306,
          307,
          308,
          309,
          310,
          311,
          312,
          313,
          314,
          315,
          316,
          317,
          318,
          319,
          320,
          321,
          322,
          323,
          324,
          325,
          326,
          327,
          328,
          329,
          330,
          331,
          332,
          333,
          334,
          335,
          336,
          337,
          338,
          339,
          340,
          341,
          342,
          343,
          344,
          345,
          346,
          347,
          348,
          349,
          350,
          351,
          352,
          353,
          354,
          355,
          356,
          357,
          358,
          359,
          360,
          361,
          362,
          363,
          364,
          365,
          366,
          367,
          368,
          369
         ],
         "xaxis": "x",
         "y": [
          0.8660869565217392,
          0.9789227166276346,
          1.1826923076923077,
          1.2663934426229508,
          1.2273504273504274,
          1.050251256281407,
          0.9961928934010152,
          1.056521739130435,
          0.8270676691729323,
          1.011124845488257,
          0.9361702127659576,
          0.9307282415630552,
          1.2551724137931035,
          1.1109467455621302,
          0.939929328621908,
          0.8195266272189349,
          1.0251677852348993,
          1.057169634489222,
          0.9948519948519948,
          0.951179820992677,
          1.007181328545781,
          1.1153846153846154,
          1.0638297872340423,
          0.8896551724137931,
          1.1005692599620494,
          1.1647597254004576,
          0.9148936170212766,
          0.925925925925926,
          1.0206185567010309,
          1.009421265141319,
          1.0609756097560976,
          1.036734693877551,
          0.9773156899810964,
          0.9912739965095986,
          0.9717411121239744,
          1.0338983050847457,
          1.018181818181818,
          0.9305263157894736,
          1.4945945945945946,
          0.9147286821705426,
          0.8687782805429864,
          1.1551020408163266,
          1.0988372093023255,
          0.9219745222929936,
          0.984189723320158,
          1.1393229166666667,
          1.0907563025210083,
          0.979381443298969,
          1.3823529411764706,
          0.8902275769745649,
          0.9634317862165964,
          0.7404306220095693,
          1.0452488687782806,
          0.9238329238329238,
          0.953831948291782,
          0.9758241758241758,
          0.981651376146789,
          1.1027397260273972,
          1.374015748031496,
          0.8994974874371859,
          1.1692307692307693,
          0.983451536643026,
          1.125703564727955,
          0.9411764705882352,
          1.2210144927536233,
          0.7987421383647799,
          1.1604095563139931,
          0.8042959427207638,
          0.9712230215827338,
          0.9102564102564102,
          1.1352941176470588,
          0.925,
          0.9452631578947368,
          1,
          1.6886792452830188,
          1.0098522167487685,
          0.9529276693455798,
          0.6205128205128205,
          0.9748427672955976,
          2.003875968992248,
          1.4666666666666666,
          1.183529411764706,
          1.1694915254237288,
          0.8407310704960835,
          0.8619246861924686,
          1.1803652968036529,
          1.0486486486486486,
          0.9566929133858268,
          1.0803212851405624,
          1.084,
          1.089171974522293,
          0.9195979899497488,
          1.0100840336134451,
          1.1036204744069913,
          0.8954248366013072,
          1.0138888888888888,
          1.0880503144654088,
          1.2917232021709633,
          0.995967741935484,
          1.2953846153846154,
          0.8912797281993206,
          0.9293413173652696,
          1.2778335005015045,
          0.9535232383808095,
          1.0434782608695652,
          1.1353383458646618,
          1.0120689655172417,
          1.132183908045977,
          0.9269005847953216,
          0.89453125,
          1.0085227272727273,
          1.1404494382022472,
          0.8962075848303394,
          0.9595238095238096,
          1.029598308668076,
          0.9745370370370372,
          1.1473684210526316,
          1.1702127659574468,
          1.055299539170507,
          1.0571428571428572,
          1,
          0.8221784776902887,
          1.1630859375,
          0.9940476190476192,
          0.9174454828660435,
          1.1803797468354431,
          1.0110759493670889,
          0.788135593220339,
          0.8175438596491228,
          0.8913043478260869,
          0.84375,
          0.901010101010101,
          1.103846153846154,
          0.9151138716356108,
          1.078048780487805,
          1.0909090909090908,
          0.8638743455497382,
          0.9748549323017408,
          0.970954356846473,
          1.0171232876712328,
          2.8,
          1.0421245421245422,
          0.843065693430657,
          1.4625984251968505,
          1.126005361930295,
          1.104903078677309,
          1.1721991701244814,
          0.9382940108892922,
          1.0491071428571428,
          1.0505747126436782,
          0.85385500575374,
          0.8720770288858322,
          1.2248322147651007,
          1.490909090909091,
          0.8432432432432433,
          0.8852459016393442,
          0.9889807162534436,
          1.0138248847926268,
          1.0732919254658384,
          1.1477272727272727,
          0.9563409563409564,
          1.2376237623762376,
          1.0232558139534884,
          1.0070422535211268,
          1.1673387096774193,
          1.052924791086351,
          1.1206496519721578,
          0.9927536231884058,
          0.9684095860566448,
          0.8843612334801763,
          0.8873239436619719,
          0.7967032967032966,
          1.2074688796680495,
          0.7128342245989305,
          0.9440894568690096,
          0.9022140221402214,
          0.7225913621262459,
          0.8666666666666667,
          0.9664268585131894,
          1.0968660968660968,
          1.0895522388059702,
          1.1731984829329962,
          1.1851851851851851,
          1.0630749014454666,
          0.991869918699187,
          1.056379821958457,
          1.0526315789473684,
          0.9131403118040088,
          1.03921568627451,
          0.9507389162561576,
          0.7190889370932755,
          1.1505376344086022,
          2.3278688524590163,
          0.9553571428571428,
          0.9292035398230089,
          1.0565371024734982,
          1.0750605326876512,
          1.0841584158415842,
          1.146341463414634,
          1,
          0.8964028776978418,
          0.8685491723466408,
          1.0511695906432748,
          1.1044487427466152,
          1.1917098445595855,
          1.0505263157894738,
          1.2882352941176471,
          1.4151670951156812,
          0.9869831546707504,
          1.585987261146497,
          1.0843373493975903,
          1.0461538461538462,
          1.1784615384615384,
          0.8385416666666666,
          0.9135802469135802,
          0.994186046511628,
          0.9314641744548288,
          0.9114219114219114,
          0.889958734525447,
          1.2768496420047732,
          1.0650577124868836,
          0.7951807228915663,
          1.0609929078014184,
          1.049342105263158,
          1.0220440881763526,
          1.0365853658536586,
          1.376865671641791,
          0.8724614134849715,
          1.0089820359281436,
          0.8608695652173913,
          1.3122171945701355,
          1.0075187969924813,
          0.8892307692307693,
          0.9503105590062112,
          1,
          1.0352112676056338,
          0.9199101796407184,
          0.8816029143897997,
          1.1029850746268657,
          1.022222222222222,
          0.9100112485939258,
          1.1174785100286533,
          0.8936170212765957,
          1.0813397129186604,
          0.8765822784810127,
          0.8157181571815718,
          1,
          1.0807560137457044,
          0.9121338912133892,
          1.2037735849056603,
          0.7801857585139319,
          1.2706935123042506,
          0.9905362776025236,
          1.0944700460829493,
          1.0816696914700543,
          1.0252808988764044,
          0.8325581395348837,
          0.933993399339934,
          0.8435114503816794,
          0.6968805179517363,
          0.9864176570458404,
          0.7990196078431373,
          1.062135922330097,
          1.0635593220338984,
          1.1246200607902737,
          1.0179282868525896,
          1.0939334637964775,
          1.4966887417218544,
          1.5491071428571428,
          0.9572649572649572,
          1.1596091205211727,
          1.1535087719298245,
          0.8807339449541285,
          0.9943181818181818,
          0.986146095717884,
          0.8606403013182674,
          1.1304347826086956,
          1.1374269005847952,
          0.8146551724137931,
          0.9945054945054944,
          1.0310391363022942,
          1.0383631713554988,
          1.0578231292517006,
          0.9548133595284872,
          1.0604229607250757,
          1.0224032586558045,
          1.0571428571428572,
          0.954391891891892,
          1.0492307692307692,
          0.9460227272727272,
          0.83886925795053,
          0.7150537634408602,
          0.8627450980392157,
          0.996415770609319,
          1.046783625730994,
          0.9701149425287356,
          0.945868945868946,
          1.2834008097165992,
          1.0739957716701902,
          0.6933066933066933,
          0.8788819875776398,
          0.8653366583541147,
          0.6397884996695308,
          1.297752808988764,
          1.1472081218274113,
          1.15,
          0.7932489451476793,
          0.9064327485380116,
          0.9317073170731708,
          1.1147540983606556,
          1.0290858725761771,
          0.9559014267185474,
          0.8965853658536586,
          0.8640883977900552,
          0.9402985074626866,
          1.0694980694980696,
          1.1355555555555557,
          0.8966565349544073,
          1.2372881355932204,
          0.9726775956284152,
          1.251207729468599,
          0.8490322580645161,
          1.1126408010012516,
          0.8524590163934426,
          0.7152103559870551,
          1.142156862745098,
          1.059872611464968,
          0.925503943908852,
          0.9,
          0.8693957115009746,
          1.0781758957654723,
          1.0349462365591398,
          1.0365853658536586,
          0.9720496894409938,
          0.9385474860335196,
          1.183673469387755,
          1.1219512195121952,
          1.4048582995951415,
          1.07035175879397,
          1.154394299287411,
          1.1275626423690206,
          1.1130856219709209,
          0.967828418230563,
          0.9929328621908128,
          0.88875,
          1.4285714285714286,
          0.7461538461538462,
          0.997289972899729,
          0.9344262295081968,
          1.0226182316655243,
          2.269230769230769,
          0.9321728691476592,
          1.039092055485498,
          0.8962264150943396,
          1.0952380952380951,
          0.9596510359869138,
          0.9975031210986268,
          1.4067278287461773,
          1,
          0.9611650485436892,
          0.9134948096885812,
          1,
          0.876803551609323,
          0.9018245004344048,
          1.230603448275862,
          0.7810077519379846,
          1.0086206896551724,
          1.0548134500230308,
          0.9544827586206897,
          1.0213464696223318
         ],
         "yaxis": "y"
        }
       ],
       "layout": {
        "autosize": true,
        "legend": {
         "tracegroupgap": 0
        },
        "template": {
         "data": {
          "bar": [
           {
            "error_x": {
             "color": "#2a3f5f"
            },
            "error_y": {
             "color": "#2a3f5f"
            },
            "marker": {
             "line": {
              "color": "#E5ECF6",
              "width": 0.5
             },
             "pattern": {
              "fillmode": "overlay",
              "size": 10,
              "solidity": 0.2
             }
            },
            "type": "bar"
           }
          ],
          "barpolar": [
           {
            "marker": {
             "line": {
              "color": "#E5ECF6",
              "width": 0.5
             },
             "pattern": {
              "fillmode": "overlay",
              "size": 10,
              "solidity": 0.2
             }
            },
            "type": "barpolar"
           }
          ],
          "carpet": [
           {
            "aaxis": {
             "endlinecolor": "#2a3f5f",
             "gridcolor": "white",
             "linecolor": "white",
             "minorgridcolor": "white",
             "startlinecolor": "#2a3f5f"
            },
            "baxis": {
             "endlinecolor": "#2a3f5f",
             "gridcolor": "white",
             "linecolor": "white",
             "minorgridcolor": "white",
             "startlinecolor": "#2a3f5f"
            },
            "type": "carpet"
           }
          ],
          "choropleth": [
           {
            "colorbar": {
             "outlinewidth": 0,
             "ticks": ""
            },
            "type": "choropleth"
           }
          ],
          "contour": [
           {
            "colorbar": {
             "outlinewidth": 0,
             "ticks": ""
            },
            "colorscale": [
             [
              0,
              "#0d0887"
             ],
             [
              0.1111111111111111,
              "#46039f"
             ],
             [
              0.2222222222222222,
              "#7201a8"
             ],
             [
              0.3333333333333333,
              "#9c179e"
             ],
             [
              0.4444444444444444,
              "#bd3786"
             ],
             [
              0.5555555555555556,
              "#d8576b"
             ],
             [
              0.6666666666666666,
              "#ed7953"
             ],
             [
              0.7777777777777778,
              "#fb9f3a"
             ],
             [
              0.8888888888888888,
              "#fdca26"
             ],
             [
              1,
              "#f0f921"
             ]
            ],
            "type": "contour"
           }
          ],
          "contourcarpet": [
           {
            "colorbar": {
             "outlinewidth": 0,
             "ticks": ""
            },
            "type": "contourcarpet"
           }
          ],
          "heatmap": [
           {
            "colorbar": {
             "outlinewidth": 0,
             "ticks": ""
            },
            "colorscale": [
             [
              0,
              "#0d0887"
             ],
             [
              0.1111111111111111,
              "#46039f"
             ],
             [
              0.2222222222222222,
              "#7201a8"
             ],
             [
              0.3333333333333333,
              "#9c179e"
             ],
             [
              0.4444444444444444,
              "#bd3786"
             ],
             [
              0.5555555555555556,
              "#d8576b"
             ],
             [
              0.6666666666666666,
              "#ed7953"
             ],
             [
              0.7777777777777778,
              "#fb9f3a"
             ],
             [
              0.8888888888888888,
              "#fdca26"
             ],
             [
              1,
              "#f0f921"
             ]
            ],
            "type": "heatmap"
           }
          ],
          "heatmapgl": [
           {
            "colorbar": {
             "outlinewidth": 0,
             "ticks": ""
            },
            "colorscale": [
             [
              0,
              "#0d0887"
             ],
             [
              0.1111111111111111,
              "#46039f"
             ],
             [
              0.2222222222222222,
              "#7201a8"
             ],
             [
              0.3333333333333333,
              "#9c179e"
             ],
             [
              0.4444444444444444,
              "#bd3786"
             ],
             [
              0.5555555555555556,
              "#d8576b"
             ],
             [
              0.6666666666666666,
              "#ed7953"
             ],
             [
              0.7777777777777778,
              "#fb9f3a"
             ],
             [
              0.8888888888888888,
              "#fdca26"
             ],
             [
              1,
              "#f0f921"
             ]
            ],
            "type": "heatmapgl"
           }
          ],
          "histogram": [
           {
            "marker": {
             "pattern": {
              "fillmode": "overlay",
              "size": 10,
              "solidity": 0.2
             }
            },
            "type": "histogram"
           }
          ],
          "histogram2d": [
           {
            "colorbar": {
             "outlinewidth": 0,
             "ticks": ""
            },
            "colorscale": [
             [
              0,
              "#0d0887"
             ],
             [
              0.1111111111111111,
              "#46039f"
             ],
             [
              0.2222222222222222,
              "#7201a8"
             ],
             [
              0.3333333333333333,
              "#9c179e"
             ],
             [
              0.4444444444444444,
              "#bd3786"
             ],
             [
              0.5555555555555556,
              "#d8576b"
             ],
             [
              0.6666666666666666,
              "#ed7953"
             ],
             [
              0.7777777777777778,
              "#fb9f3a"
             ],
             [
              0.8888888888888888,
              "#fdca26"
             ],
             [
              1,
              "#f0f921"
             ]
            ],
            "type": "histogram2d"
           }
          ],
          "histogram2dcontour": [
           {
            "colorbar": {
             "outlinewidth": 0,
             "ticks": ""
            },
            "colorscale": [
             [
              0,
              "#0d0887"
             ],
             [
              0.1111111111111111,
              "#46039f"
             ],
             [
              0.2222222222222222,
              "#7201a8"
             ],
             [
              0.3333333333333333,
              "#9c179e"
             ],
             [
              0.4444444444444444,
              "#bd3786"
             ],
             [
              0.5555555555555556,
              "#d8576b"
             ],
             [
              0.6666666666666666,
              "#ed7953"
             ],
             [
              0.7777777777777778,
              "#fb9f3a"
             ],
             [
              0.8888888888888888,
              "#fdca26"
             ],
             [
              1,
              "#f0f921"
             ]
            ],
            "type": "histogram2dcontour"
           }
          ],
          "mesh3d": [
           {
            "colorbar": {
             "outlinewidth": 0,
             "ticks": ""
            },
            "type": "mesh3d"
           }
          ],
          "parcoords": [
           {
            "line": {
             "colorbar": {
              "outlinewidth": 0,
              "ticks": ""
             }
            },
            "type": "parcoords"
           }
          ],
          "pie": [
           {
            "automargin": true,
            "type": "pie"
           }
          ],
          "scatter": [
           {
            "fillpattern": {
             "fillmode": "overlay",
             "size": 10,
             "solidity": 0.2
            },
            "type": "scatter"
           }
          ],
          "scatter3d": [
           {
            "line": {
             "colorbar": {
              "outlinewidth": 0,
              "ticks": ""
             }
            },
            "marker": {
             "colorbar": {
              "outlinewidth": 0,
              "ticks": ""
             }
            },
            "type": "scatter3d"
           }
          ],
          "scattercarpet": [
           {
            "marker": {
             "colorbar": {
              "outlinewidth": 0,
              "ticks": ""
             }
            },
            "type": "scattercarpet"
           }
          ],
          "scattergeo": [
           {
            "marker": {
             "colorbar": {
              "outlinewidth": 0,
              "ticks": ""
             }
            },
            "type": "scattergeo"
           }
          ],
          "scattergl": [
           {
            "marker": {
             "colorbar": {
              "outlinewidth": 0,
              "ticks": ""
             }
            },
            "type": "scattergl"
           }
          ],
          "scattermapbox": [
           {
            "marker": {
             "colorbar": {
              "outlinewidth": 0,
              "ticks": ""
             }
            },
            "type": "scattermapbox"
           }
          ],
          "scatterpolar": [
           {
            "marker": {
             "colorbar": {
              "outlinewidth": 0,
              "ticks": ""
             }
            },
            "type": "scatterpolar"
           }
          ],
          "scatterpolargl": [
           {
            "marker": {
             "colorbar": {
              "outlinewidth": 0,
              "ticks": ""
             }
            },
            "type": "scatterpolargl"
           }
          ],
          "scatterternary": [
           {
            "marker": {
             "colorbar": {
              "outlinewidth": 0,
              "ticks": ""
             }
            },
            "type": "scatterternary"
           }
          ],
          "surface": [
           {
            "colorbar": {
             "outlinewidth": 0,
             "ticks": ""
            },
            "colorscale": [
             [
              0,
              "#0d0887"
             ],
             [
              0.1111111111111111,
              "#46039f"
             ],
             [
              0.2222222222222222,
              "#7201a8"
             ],
             [
              0.3333333333333333,
              "#9c179e"
             ],
             [
              0.4444444444444444,
              "#bd3786"
             ],
             [
              0.5555555555555556,
              "#d8576b"
             ],
             [
              0.6666666666666666,
              "#ed7953"
             ],
             [
              0.7777777777777778,
              "#fb9f3a"
             ],
             [
              0.8888888888888888,
              "#fdca26"
             ],
             [
              1,
              "#f0f921"
             ]
            ],
            "type": "surface"
           }
          ],
          "table": [
           {
            "cells": {
             "fill": {
              "color": "#EBF0F8"
             },
             "line": {
              "color": "white"
             }
            },
            "header": {
             "fill": {
              "color": "#C8D4E3"
             },
             "line": {
              "color": "white"
             }
            },
            "type": "table"
           }
          ]
         },
         "layout": {
          "annotationdefaults": {
           "arrowcolor": "#2a3f5f",
           "arrowhead": 0,
           "arrowwidth": 1
          },
          "autotypenumbers": "strict",
          "coloraxis": {
           "colorbar": {
            "outlinewidth": 0,
            "ticks": ""
           }
          },
          "colorscale": {
           "diverging": [
            [
             0,
             "#8e0152"
            ],
            [
             0.1,
             "#c51b7d"
            ],
            [
             0.2,
             "#de77ae"
            ],
            [
             0.3,
             "#f1b6da"
            ],
            [
             0.4,
             "#fde0ef"
            ],
            [
             0.5,
             "#f7f7f7"
            ],
            [
             0.6,
             "#e6f5d0"
            ],
            [
             0.7,
             "#b8e186"
            ],
            [
             0.8,
             "#7fbc41"
            ],
            [
             0.9,
             "#4d9221"
            ],
            [
             1,
             "#276419"
            ]
           ],
           "sequential": [
            [
             0,
             "#0d0887"
            ],
            [
             0.1111111111111111,
             "#46039f"
            ],
            [
             0.2222222222222222,
             "#7201a8"
            ],
            [
             0.3333333333333333,
             "#9c179e"
            ],
            [
             0.4444444444444444,
             "#bd3786"
            ],
            [
             0.5555555555555556,
             "#d8576b"
            ],
            [
             0.6666666666666666,
             "#ed7953"
            ],
            [
             0.7777777777777778,
             "#fb9f3a"
            ],
            [
             0.8888888888888888,
             "#fdca26"
            ],
            [
             1,
             "#f0f921"
            ]
           ],
           "sequentialminus": [
            [
             0,
             "#0d0887"
            ],
            [
             0.1111111111111111,
             "#46039f"
            ],
            [
             0.2222222222222222,
             "#7201a8"
            ],
            [
             0.3333333333333333,
             "#9c179e"
            ],
            [
             0.4444444444444444,
             "#bd3786"
            ],
            [
             0.5555555555555556,
             "#d8576b"
            ],
            [
             0.6666666666666666,
             "#ed7953"
            ],
            [
             0.7777777777777778,
             "#fb9f3a"
            ],
            [
             0.8888888888888888,
             "#fdca26"
            ],
            [
             1,
             "#f0f921"
            ]
           ]
          },
          "colorway": [
           "#636efa",
           "#EF553B",
           "#00cc96",
           "#ab63fa",
           "#FFA15A",
           "#19d3f3",
           "#FF6692",
           "#B6E880",
           "#FF97FF",
           "#FECB52"
          ],
          "font": {
           "color": "#2a3f5f"
          },
          "geo": {
           "bgcolor": "white",
           "lakecolor": "white",
           "landcolor": "#E5ECF6",
           "showlakes": true,
           "showland": true,
           "subunitcolor": "white"
          },
          "hoverlabel": {
           "align": "left"
          },
          "hovermode": "closest",
          "mapbox": {
           "style": "light"
          },
          "paper_bgcolor": "white",
          "plot_bgcolor": "#E5ECF6",
          "polar": {
           "angularaxis": {
            "gridcolor": "white",
            "linecolor": "white",
            "ticks": ""
           },
           "bgcolor": "#E5ECF6",
           "radialaxis": {
            "gridcolor": "white",
            "linecolor": "white",
            "ticks": ""
           }
          },
          "scene": {
           "xaxis": {
            "backgroundcolor": "#E5ECF6",
            "gridcolor": "white",
            "gridwidth": 2,
            "linecolor": "white",
            "showbackground": true,
            "ticks": "",
            "zerolinecolor": "white"
           },
           "yaxis": {
            "backgroundcolor": "#E5ECF6",
            "gridcolor": "white",
            "gridwidth": 2,
            "linecolor": "white",
            "showbackground": true,
            "ticks": "",
            "zerolinecolor": "white"
           },
           "zaxis": {
            "backgroundcolor": "#E5ECF6",
            "gridcolor": "white",
            "gridwidth": 2,
            "linecolor": "white",
            "showbackground": true,
            "ticks": "",
            "zerolinecolor": "white"
           }
          },
          "shapedefaults": {
           "line": {
            "color": "#2a3f5f"
           }
          },
          "ternary": {
           "aaxis": {
            "gridcolor": "white",
            "linecolor": "white",
            "ticks": ""
           },
           "baxis": {
            "gridcolor": "white",
            "linecolor": "white",
            "ticks": ""
           },
           "bgcolor": "#E5ECF6",
           "caxis": {
            "gridcolor": "white",
            "linecolor": "white",
            "ticks": ""
           }
          },
          "title": {
           "x": 0.05
          },
          "xaxis": {
           "automargin": true,
           "gridcolor": "white",
           "linecolor": "white",
           "ticks": "",
           "title": {
            "standoff": 15
           },
           "zerolinecolor": "white",
           "zerolinewidth": 2
          },
          "yaxis": {
           "automargin": true,
           "gridcolor": "white",
           "linecolor": "white",
           "ticks": "",
           "title": {
            "standoff": 15
           },
           "zerolinecolor": "white",
           "zerolinewidth": 2
          }
         }
        },
        "title": {
         "text": "Start/End Ratio for Each Station"
        },
        "xaxis": {
         "anchor": "y",
         "autorange": true,
         "domain": [
          0,
          1
         ],
         "range": [
          -22.53453751488686,
          391.53453751488684
         ],
         "title": {
          "text": "Station Index"
         },
         "type": "linear"
        },
        "yaxis": {
         "anchor": "x",
         "autorange": true,
         "domain": [
          0,
          1
         ],
         "range": [
          0.44065222803086884,
          2.9798605924819515
         ],
         "title": {
          "text": "Start/End Ratio"
         },
         "type": "linear"
        }
       }
      },
      "image/png": "[encoded data removed]",
      "text/html": [
       "<div>                            <div id=\"ef25db11-ffcf-4c7d-9b8c-d3cbee2884ab\" class=\"plotly-graph-div\" style=\"height:525px; width:100%;\"></div>            <script type=\"text/javascript\">                require([\"plotly\"], function(Plotly) {                    window.PLOTLYENV=window.PLOTLYENV || {};                                    if (document.getElementById(\"ef25db11-ffcf-4c7d-9b8c-d3cbee2884ab\")) {                    Plotly.newPlot(                        \"ef25db11-ffcf-4c7d-9b8c-d3cbee2884ab\",                        [{\"customdata\":[[498,575,1073],[418,427,845],[492,416,908],[309,244,553],[718,585,1303],[1254,1194,2448],[785,788,1573],[486,460,946],[220,266,486],[2454,2427,4881],[396,423,819],[524,563,1087],[546,435,981],[751,676,1427],[798,849,1647],[554,676,1230],[611,596,1207],[1128,1067,2195],[773,777,1550],[1169,1229,2398],[561,557,1118],[406,364,770],[350,329,679],[258,290,548],[580,527,1107],[509,437,946],[473,517,990],[350,378,728],[792,776,1568],[750,743,1493],[957,902,1859],[762,735,1497],[517,529,1046],[568,573,1141],[1066,1097,2163],[488,472,960],[504,495,999],[442,475,917],[1106,740,1846],[236,258,494],[576,663,1239],[849,735,1584],[378,344,722],[579,628,1207],[249,253,502],[875,768,1643],[649,595,1244],[570,582,1152],[235,170,405],[665,747,1412],[685,711,1396],[1238,1672,2910],[231,221,452],[376,407,783],[1033,1083,2116],[444,455,899],[428,436,864],[161,146,307],[349,254,603],[179,199,378],[228,195,423],[416,423,839],[600,533,1133],[320,340,660],[674,552,1226],[508,636,1144],[340,293,633],[337,419,756],[405,417,822],[1562,1716,3278],[193,170,363],[518,560,1078],[449,475,924],[393,393,786],[358,212,570],[205,203,408],[830,871,1701],[242,390,632],[310,318,628],[517,258,775],[22,15,37],[503,425,928],[276,236,512],[322,383,705],[412,478,890],[517,438,955],[388,370,758],[972,1016,1988],[538,498,1036],[542,500,1042],[171,157,328],[366,398,764],[1202,1190,2392],[884,801,1685],[274,306,580],[219,216,435],[346,318,664],[952,737,1689],[741,744,1485],[421,325,746],[787,883,1670],[1552,1670,3222],[1274,997,2271],[636,667,1303],[192,184,376],[302,266,568],[587,580,1167],[394,348,742],[317,342,659],[229,256,485],[710,704,1414],[1015,890,1905],[449,501,950],[403,420,823],[487,473,960],[421,432,853],[654,570,1224],[165,141,306],[458,434,892],[703,665,1368],[320,320,640],[1253,1524,2777],[1191,1024,2215],[501,504,1005],[589,642,1231],[373,316,689],[639,632,1271],[465,590,1055],[466,570,1036],[451,506,957],[459,544,1003],[446,495,941],[287,260,547],[442,483,925],[221,205,426],[504,462,966],[495,573,1068],[504,517,1021],[468,482,950],[594,584,1178],[14,5,19],[569,546,1115],[231,274,505],[743,508,1251],[420,373,793],[969,877,1846],[565,482,1047],[517,551,1068],[470,448,918],[457,435,892],[742,869,1611],[634,727,1361],[365,298,663],[246,165,411],[156,185,341],[108,122,230],[359,363,722],[220,217,437],[864,805,1669],[808,704,1512],[460,481,941],[375,303,678],[308,301,609],[286,284,570],[579,496,1075],[378,359,737],[483,431,914],[822,828,1650],[889,918,1807],[803,908,1711],[504,568,1072],[1160,1456,2616],[291,241,532],[1333,1870,3203],[591,626,1217],[489,542,1031],[435,602,1037],[611,705,1316],[806,834,1640],[385,351,736],[292,268,560],[928,791,1719],[352,297,649],[809,761,1570],[488,492,980],[356,337,693],[160,152,312],[410,449,859],[159,153,312],[386,406,792],[663,922,1585],[214,186,400],[142,61,203],[321,336,657],[420,452,872],[897,849,1746],[444,413,857],[438,404,842],[517,451,968],[790,790,1580],[623,695,1318],[892,1027,1919],[719,684,1403],[571,517,1088],[230,193,423],[499,475,974],[219,170,389],[1101,778,1879],[1289,1306,2595],[249,157,406],[360,332,692],[476,455,931],[383,325,708],[161,192,353],[444,486,930],[342,344,686],[598,642,1240],[782,858,1640],[1294,1454,2748],[535,419,954],[1015,953,1968],[330,415,745],[748,705,1453],[319,304,623],[510,499,1009],[510,492,1002],[369,268,637],[1074,1231,2305],[337,334,671],[297,345,642],[290,221,511],[804,798,1602],[289,325,614],[459,483,942],[107,107,214],[735,710,1445],[1229,1336,2565],[484,549,1033],[739,670,1409],[598,585,1183],[809,889,1698],[390,349,739],[420,470,890],[226,209,435],[554,632,1186],[301,369,670],[212,212,424],[629,582,1211],[218,239,457],[638,530,1168],[252,323,575],[568,447,1015],[314,317,631],[475,434,909],[596,551,1147],[365,356,721],[537,645,1182],[283,303,586],[442,524,966],[1184,1699,2883],[1162,1178,2340],[489,612,1101],[547,515,1062],[502,472,974],[370,329,699],[1022,1004,2026],[559,511,1070],[226,151,377],[347,224,571],[336,351,687],[356,307,663],[526,456,982],[96,109,205],[175,176,351],[783,794,1577],[457,531,988],[702,621,1323],[389,342,731],[189,232,421],[543,546,1089],[764,741,1505],[406,391,797],[311,294,605],[486,509,995],[702,662,1364],[502,491,993],[259,245,504],[565,592,1157],[682,650,1332],[666,704,1370],[1187,1415,2602],[266,372,638],[176,204,380],[556,558,1114],[537,513,1050],[844,870,1714],[332,351,683],[317,247,564],[508,473,981],[694,1001,1695],[283,322,605],[347,401,748],[968,1513,2481],[462,356,818],[226,197,423],[391,340,731],[188,237,425],[465,513,978],[573,615,1188],[204,183,387],[743,722,1465],[737,771,1508],[919,1025,1944],[782,905,1687],[756,804,1560],[554,518,1072],[511,450,961],[590,658,1248],[730,590,1320],[534,549,1083],[518,414,932],[658,775,1433],[889,799,1688],[312,366,678],[442,618,1060],[233,204,437],[832,785,1617],[1056,1141,2197],[189,210,399],[446,513,959],[662,614,1276],[385,372,757],[510,492,1002],[626,644,1270],[504,537,1041],[58,49,107],[138,123,261],[347,247,594],[213,199,412],[486,421,907],[495,439,934],[689,619,1308],[722,746,1468],[1405,1415,2820],[711,800,1511],[580,406,986],[194,260,454],[368,369,737],[456,488,944],[2984,2918,5902],[2360,1040,3400],[4659,4998,9657],[824,793,1617],[380,424,804],[322,294,616],[880,917,1797],[799,801,1600],[920,654,1574],[762,762,1524],[99,103,202],[792,867,1659],[295,295,590],[790,901,1691],[1038,1151,2189],[571,464,1035],[403,516,919],[234,232,466],[2290,2171,4461],[692,725,1417],[622,609,1231]],\"hovertemplate\":\"\\u003cb\\u003e%{hovertext}\\u003c\\u002fb\\u003e\\u003cbr\\u003e\\u003cbr\\u003eStation Index=%{x}\\u003cbr\\u003eStart\\u002fEnd Ratio=%{y}\\u003cbr\\u003eStart Count=%{customdata[0]}\\u003cbr\\u003eEnd Count=%{customdata[1]}\\u003cbr\\u003eTotal Trips=%{customdata[2]}\\u003cextra\\u003e\\u003c\\u002fextra\\u003e\",\"hovertext\":[\"Abbey Orchard Street, Westminster\",\"Abingdon Green, Westminster\",\"Albany Street, The Regent's Park\",\"Albert Embankment, Vauxhall\",\"Albert Gate, Hyde Park\",\"Aldersgate Street, Barbican\",\"Allington Street, Victoria\",\"Ampton Street , Clerkenwell\",\"Archbishop's Park, Waterloo\",\"Argyle Street, Kings Cross\",\"Arundel Street, Temple\",\"Ashley Place, Victoria\",\"Baker Street, Marylebone\",\"Baldwin Street, St. Luke's\",\"Bank of England Museum, Bank\",\"Bankside Mix, Bankside\",\"Barbican Centre, Barbican\",\"Bath Street, St. Luke's\",\"Bayley Street , Bloomsbury\",\"Baylis Road, Waterloo\",\"Beaumont Street, Marylebone\",\"Bedford Way, Bloomsbury\",\"Belgrave Road, Victoria\",\"Belgrave Square, Belgravia\",\"Bell Lane, Liverpool Street\",\"Bell Street , Marylebone\",\"Belvedere Road 1, South Bank\",\"Belvedere Road 2, South Bank\",\"Bermondsey Street, Bermondsey\",\"Berry Street, Clerkenwell\",\"Bethnal Green Road, Shoreditch\",\"Birkenhead Street, King's Cross\",\"Black Prince Road, Vauxhall\",\"Blackfriars Road, Southwark\",\"Blackfriars Station, St. Paul's\",\"Bolsover Street, Fitzrovia\",\"Borough High Street, The Borough\",\"Borough Road, Elephant & Castle\",\"Boston Place, Marylebone\",\"Bourne Street, Belgravia\",\"Bouverie Street, Temple\",\"Braham Street, Aldgate\",\"Brandon Street, Walworth\",\"Breams Buildings, Holborn\",\"Brick Lane Market, Shoreditch\",\"Bricklayers Arms, Borough\",\"British Museum, Bloomsbury\",\"Broadcasting House, Marylebone\",\"Broadley Terrace, Marylebone\",\"Broadwick Street, Soho\",\"Brunswick Square, Bloomsbury\",\"Brushfield Street, Liverpool Street\",\"Bruton Street, Mayfair\",\"Buckingham Gate, Westminster\",\"Bunhill Row, Moorgate\",\"Bury Place, Holborn\",\"Butler Place, Westminster\",\"Buxton Street 1, Shoreditch\",\"Cadogan Gardens, Chelsea\",\"Cadogan Place, Knightsbridge\",\"Calshot Street , King's Cross\",\"Carey Street, Holborn\",\"Cartwright Gardens , Bloomsbury\",\"Central House, Aldgate\",\"Chadwell Street, Angel\",\"Chapel Place, Marylebone\",\"Charlbert Street, St. John's Wood\",\"Charles II Street, West End\",\"Charlotte Street, Fitzrovia\",\"Cheapside, Bank\",\"Chelsea Green, Chelsea\",\"Chicheley Street, South Bank\",\"Christopher Street, Liverpool Street\",\"City Road, Angel\",\"Claremont Square, Angel\",\"Clarges Street, Mayfair\",\"Clerkenwell Green, Clerkenwell\",\"Clifford Street, Mayfair\",\"Clifton Street, Shoreditch\",\"Cloudesley Road, Angel\",\"Colombo Street, Southwark\",\"Columbia Road, Shoreditch\",\"Commercial Street, Shoreditch\",\"Concert Hall Approach 1, South Bank\",\"Concert Hall Approach 2, South Bank\",\"Coram Street, Bloomsbury\",\"Cotton Garden Estate, Kennington\",\"Craven Street, Strand\",\"Crawford Street, Marylebone\",\"Crimscott Street, Bermondsey\",\"Crinan Street, King's Cross\",\"Cromer Street, Bloomsbury\",\"Crosswall, Tower\",\"Curlew Street, Shad Thames\",\"Curzon Street, Mayfair\",\"Denyer Street, Knightsbridge\",\"Dickens Square, Borough\",\"Doric Way , Somers Town\",\"Dorset Square, Marylebone\",\"Drummond Street , Euston\",\"Drury Lane, Covent Garden\",\"Duke Street Hill, London Bridge\",\"Eagle Wharf Road, Hoxton\",\"Earnshaw Street , Covent Garden\",\"Eaton Square (South), Belgravia\",\"Ebury Bridge, Pimlico\",\"Eccleston Place, Victoria\",\"Edgware Road Station, Marylebone\",\"Elizabeth Bridge, Victoria\",\"Embankment (Savoy), Strand\",\"Empire Square, The Borough\",\"Endsleigh Gardens, Euston\",\"Euston Road, Euston\",\"Euston Square Gardens, Euston\",\"Eversholt Street , Camden Town\",\"Falkirk Street, Hoxton\",\"Fanshaw Street, Hoxton\",\"Farm Street, Mayfair\",\"Farringdon Lane, Clerkenwell\",\"Farringdon Street, Holborn\",\"Fashion Street, Whitechapel\",\"Finsbury Circus, Liverpool Street\",\"Finsbury Leisure Centre, St. Luke's\",\"Finsbury Library , Finsbury\",\"Finsbury Square , Moorgate\",\"Fire Brigade Pier, Vauxhall\",\"Foley Street, Fitzrovia\",\"Fore Street Avenue, Guildhall\",\"Fore Street, Guildhall\",\"Fournier Street, Whitechapel\",\"Frith Street, Soho\",\"Gaywood  Street, Elephant & Castle\",\"George Place Mews, Marylebone\",\"George Street, Marylebone\",\"Geraldine Street, Elephant & Castle\",\"Gloucester Street, Pimlico\",\"Godliman Street, St. Paul's\",\"Golden Lane, Barbican\",\"Golden Square, Soho\",\"Good's Way, King's Cross\",\"Goswell Road (City Uni), Finsbury\",\"Gower Place , Euston\",\"Grafton Street, Mayfair\",\"Graham Street, Angel\",\"Granby Street, Shoreditch\",\"Great Dover Street, The Borough\",\"Great Percy Street, Clerkenwell\",\"Great Russell Street, Bloomsbury\",\"Great Suffolk Street, The Borough\",\"Great Titchfield Street, Fitzrovia\",\"Great Tower Street, Monument\",\"Green Park Station, Mayfair\",\"Green Street, Mayfair\",\"Greenberry Street, St.John's Wood\",\"Greycoat Street , Westminster\",\"Grosvenor Crescent, Belgravia\",\"Grosvenor Square, Mayfair\",\"Guildhouse Street, Victoria\",\"Guilford Street , Bloomsbury\",\"Hampstead Road, Euston\",\"Hampton Street, Walworth\",\"Hardwick Street, Clerkenwell\",\"Harper Road, The Borough\",\"Harriet Street, Knightsbridge\",\"Harrington Square 1, Camden Town\",\"Harris Academy, Bermondsey\",\"Harrowby Street, Marylebone\",\"Hatton Garden, Holborn\",\"Hatton Wall, Holborn\",\"High Holborn , Covent Garden\",\"Hinde Street, Marylebone\",\"Holborn Circus, Holborn\",\"Holy Trinity Brompton, Knightsbridge\",\"Hop Exchange, The Borough\",\"Horseferry Road, Westminster\",\"Houghton Street, Strand\",\"Houndsditch, Aldgate\",\"Howick Place, Westminster\",\"Howland Street, Fitzrovia\",\"Hoxton Station, Hoxton\",\"Hoxton Street, Hoxton\",\"Hyde Park Corner, Hyde Park\",\"Jewry Street, Aldgate\",\"Kennington Cross, Kennington\",\"Kennington Road, Vauxhall\",\"Kennington Station, Kennington\",\"Killick Street, King's Cross\",\"King Edward Street, St Pauls\",\"King Edward Walk, Waterloo\",\"Kings Gate House, Westminster\",\"Kingsway Southbound, Strand\",\"Kingsway, Covent Garden\",\"Knightsbridge, Hyde Park\",\"LSBU (Borough Road), Elephant & Castle\",\"Lambeth North Station, Waterloo\",\"Lambeth Palace Road, Waterloo\",\"Lambeth Road, Vauxhall\",\"Lavington Street, Bankside\",\"Leman Street, Aldgate\",\"Leonard Circus , Shoreditch\",\"Lincoln's Inn Fields, Holborn\",\"Little Argyll Street, West End\",\"Lollard Street, Vauxhall\",\"Long Lane , Bermondsey\",\"Longford Street, The Regent's Park\",\"Lower Marsh, Waterloo\",\"Lower Thames Street, Monument\",\"Macclesfield Rd, St Lukes\",\"Malet Street, Bloomsbury\",\"Mallory Street, Marylebone\",\"Margery Street, Clerkenwell\",\"Marylebone Lane, Marylebone\",\"Millbank Tower, Pimlico\",\"Millennium Hotel, Mayfair\",\"Milroy Walk, South Bank\",\"Montpelier Street, Knightsbridge\",\"Monument Street, Monument\",\"Moor Street, Soho\",\"Moorfields, Moorgate\",\"Murray Grove , Hoxton\",\"Museum of London, Barbican\",\"New Cavendish Street, Marylebone\",\"New Fetter Lane, Holborn\",\"New Globe Walk, Bankside\",\"New Inn Yard, Shoreditch\",\"New Kent Road, The Borough\",\"New North Road 2, Hoxton\",\"Newgate Street , St. Paul's\",\"Newton Street, Covent Garden\",\"North Audley Street, Mayfair\",\"Northdown Street, King's Cross\",\"Northington Street , Holborn\",\"Northumberland Avenue, Strand\",\"Norton Folgate, Liverpool Street\",\"Nutford Place, Marylebone\",\"Old Quebec Street, Marylebone\",\"Old Street Station, St. Luke's\",\"Ontario Street, Elephant & Castle\",\"Ossulston Street, Somers Town\",\"Paddington Street, Marylebone\",\"Page Street, Westminster\",\"Palissy Street, Shoreditch\",\"Pall Mall East, West End\",\"Pancras Road, King's Cross\",\"Panton Street, West End\",\"Park Lane , Hyde Park\",\"Park Lane, Mayfair\",\"Park Road (Baker Street), The Regent's Park\",\"Park Street, Bankside\",\"Percival Street, Finsbury\",\"Pindar Street, Liverpool Street\",\"Pitfield Street Central, Hoxton\",\"Pont Street, Knightsbridge\",\"Porchester Place, Paddington\",\"Portland Place, Marylebone\",\"Portman Square, Marylebone\",\"Portugal Street, Holborn\",\"Poured Lines, Bankside\",\"Queen Mother Sports Centre, Victoria\",\"Queen Street 1, Bank\",\"Queen Street 2, Bank\",\"Queen Victoria Street, St. Paul's\",\"Rampayne Street, Pimlico\",\"Rathbone Street, Fitzrovia\",\"Red Lion Square, Holborn\",\"Red Lion Street, Holborn\",\"Regency Street, Westminster\",\"Risinghill Street, Angel\",\"River Street , Clerkenwell\",\"Rochester Row, Westminster\",\"Rodney Road , Walworth\",\"Roscoe Street, St. Luke's\",\"Royal Avenue 1, Chelsea\",\"Royal Avenue 2, Chelsea\",\"Russell Square Station, Bloomsbury\",\"Sackville Street, Mayfair\",\"Sadlers Sports Centre, Finsbury\",\"Sail Street, Vauxhall\",\"Sancroft Street, Vauxhall\",\"Scala Street, Fitzrovia\",\"Sea Containers, South Bank\",\"Sedding Street, Sloane Square\",\"Seville Street, Knightsbridge\",\"Seymour Place, Marylebone\",\"Shoreditch High Street, Shoreditch\",\"Shouldham Street, Marylebone\",\"Sloane Avenue, Knightsbridge\",\"Smith Square, Westminster\",\"Snow Hill, Farringdon\",\"Snowsfields, London Bridge\",\"Soho Square , Soho\",\"Somerset House, Strand\",\"South Audley Street, Mayfair\",\"Southampton Place, Holborn\",\"Southampton Street, Strand\",\"Southwark Station 2, Southwark\",\"Southwark Street, Bankside\",\"Southwick Street, Paddington\",\"St Mary's Hospital, Paddington\",\"St. Bride Street, Holborn\",\"St. Chad's Street, King's Cross\",\"St. George Street, Mayfair\",\"St. James's Square, St. James's\",\"St. John Street, Finsbury\",\"St. John's Wood Church, The Regent's Park\",\"St. Katharine's Way, Tower\",\"St. Martin's Street, West End\",\"St. Mary Axe, Aldgate\",\"Stamford Street, South Bank\",\"Stanhope Gate, Mayfair\",\"Store Street, Bloomsbury\",\"Storey's Gate, Westminster\",\"Strand, Strand\",\"Strata, Elephant & Castle\",\"Sun Street, Liverpool Street\",\"Swan Street, The Borough\",\"Tachbrook Street, Victoria\",\"Tallis Street, Temple\",\"Tanner Street, Bermondsey\",\"Tate Modern, Bankside\",\"Tavistock Place, Bloomsbury\",\"Tavistock Street, Covent Garden\",\"Taviton Street, Bloomsbury\",\"Temple Gardens, Temple\",\"The Guildhall, Guildhall\",\"The Tennis Courts, The Regent's Park\",\"Theobald's Road , Holborn\",\"Tooley Street, Bermondsey\",\"Torrens Street, Angel\",\"Tower Gardens , Tower\",\"Tower Wharf, Bermondsey\",\"Triangle Car Park, Hyde Park\",\"Tyers Gate, Bermondsey\",\"Tysoe Street, Clerkenwell\",\"Union Street, The Borough\",\"Upper Grosvenor Street, Mayfair\",\"Victoria & Albert Museum, South Kensington\",\"Victory Place, Walworth\",\"Vincent Square, Westminster\",\"Vincent Street, Pimlico\",\"Walnut Tree Walk, Vauxhall\",\"Walworth Square, Walworth\",\"Wardour Street, Soho\",\"Warren Street Station, Euston\",\"Warwick Row, Westminster\",\"Warwick Square, Pimlico\",\"Waterloo Bridge, South Bank\",\"Waterloo Place, St. James's\",\"Waterloo Road, South Bank\",\"Waterloo Station 1, Waterloo\",\"Waterloo Station 2, Waterloo\",\"Waterloo Station 3, Waterloo\",\"Webber Street , Southwark\",\"Wellington Arch, Hyde Park\",\"Wellington Row, Bethnal Green\",\"Wellington Street , Strand\",\"Wells Street, Fitzrovia\",\"Wenlock Road , Hoxton\",\"West Smithfield Rotunda, Farringdon\",\"Westminster Bridge Road, Elephant & Castle\",\"Westminster Pier, Westminster\",\"Westminster University, Marylebone\",\"Whitehall Place, Strand\",\"William IV Street, Strand\",\"Windsor Terrace, Hoxton\",\"Wood Street, Guildhall\",\"Woodstock Street, Mayfair\",\"Wormwood Street, Liverpool Street\",\"Worship Street, Shoreditch\",\"Wren Street, Holborn\"],\"legendgroup\":\"\",\"marker\":{\"color\":\"#636efa\",\"symbol\":\"circle\"},\"mode\":\"markers\",\"name\":\"\",\"orientation\":\"v\",\"showlegend\":false,\"x\":[0,1,2,3,4,5,6,7,8,9,10,11,12,13,14,15,16,17,18,19,20,21,22,23,24,25,26,27,28,29,30,31,32,33,34,35,36,37,38,39,40,41,42,43,44,45,46,47,48,49,50,51,52,53,54,55,56,57,58,59,60,61,62,63,64,65,66,67,68,69,70,71,72,73,74,75,76,77,78,79,80,81,82,83,84,85,86,87,88,89,90,91,92,93,94,95,96,97,98,99,100,101,102,103,104,105,106,107,108,109,110,111,112,113,114,115,116,117,118,119,120,121,122,123,124,125,126,127,128,129,130,131,132,133,134,135,136,137,138,139,140,141,142,143,144,145,146,147,148,149,150,151,152,153,154,155,156,157,158,159,160,161,162,163,164,165,166,167,168,169,170,171,172,173,174,175,176,177,178,179,180,181,182,183,184,185,186,187,188,189,190,191,192,193,194,195,196,197,198,199,200,201,202,203,204,205,206,207,208,209,210,211,212,213,214,215,216,217,218,219,220,221,222,223,224,225,226,227,228,229,230,231,232,233,234,235,236,237,238,239,240,241,242,243,244,245,246,247,248,249,250,251,252,253,254,255,256,257,258,259,260,261,262,263,264,265,266,267,268,269,270,271,272,273,274,275,276,277,278,279,280,281,282,283,284,285,286,287,288,289,290,291,292,293,294,295,296,297,298,299,300,301,302,303,304,305,306,307,308,309,310,311,312,313,314,315,316,317,318,319,320,321,322,323,324,325,326,327,328,329,330,331,332,333,334,335,336,337,338,339,340,341,342,343,344,345,346,347,348,349,350,351,352,353,354,355,356,357,358,359,360,361,362,363,364,365,366,367,368,369],\"xaxis\":\"x\",\"y\":[0.8660869565217392,0.9789227166276346,1.1826923076923077,1.2663934426229508,1.2273504273504274,1.050251256281407,0.9961928934010152,1.056521739130435,0.8270676691729323,1.011124845488257,0.9361702127659576,0.9307282415630552,1.2551724137931035,1.1109467455621302,0.939929328621908,0.8195266272189349,1.0251677852348993,1.057169634489222,0.9948519948519948,0.951179820992677,1.007181328545781,1.1153846153846154,1.0638297872340423,0.8896551724137931,1.1005692599620494,1.1647597254004576,0.9148936170212766,0.925925925925926,1.0206185567010309,1.009421265141319,1.0609756097560976,1.036734693877551,0.9773156899810964,0.9912739965095986,0.9717411121239744,1.0338983050847457,1.018181818181818,0.9305263157894736,1.4945945945945946,0.9147286821705426,0.8687782805429864,1.1551020408163266,1.0988372093023255,0.9219745222929936,0.984189723320158,1.1393229166666667,1.0907563025210083,0.979381443298969,1.3823529411764706,0.8902275769745649,0.9634317862165964,0.7404306220095693,1.0452488687782806,0.9238329238329238,0.953831948291782,0.9758241758241758,0.981651376146789,1.1027397260273972,1.374015748031496,0.8994974874371859,1.1692307692307693,0.983451536643026,1.125703564727955,0.9411764705882352,1.2210144927536233,0.7987421383647799,1.1604095563139931,0.8042959427207638,0.9712230215827338,0.9102564102564102,1.1352941176470588,0.925,0.9452631578947368,1.0,1.6886792452830188,1.0098522167487685,0.9529276693455798,0.6205128205128205,0.9748427672955976,2.003875968992248,1.4666666666666666,1.183529411764706,1.1694915254237288,0.8407310704960835,0.8619246861924686,1.1803652968036529,1.0486486486486486,0.9566929133858268,1.0803212851405624,1.084,1.089171974522293,0.9195979899497488,1.0100840336134451,1.1036204744069913,0.8954248366013072,1.0138888888888888,1.0880503144654088,1.2917232021709633,0.995967741935484,1.2953846153846154,0.8912797281993206,0.9293413173652696,1.2778335005015045,0.9535232383808095,1.0434782608695652,1.1353383458646618,1.0120689655172417,1.132183908045977,0.9269005847953216,0.89453125,1.0085227272727273,1.1404494382022472,0.8962075848303394,0.9595238095238096,1.029598308668076,0.9745370370370372,1.1473684210526316,1.1702127659574468,1.055299539170507,1.0571428571428572,1.0,0.8221784776902887,1.1630859375,0.9940476190476192,0.9174454828660435,1.1803797468354431,1.0110759493670889,0.788135593220339,0.8175438596491228,0.8913043478260869,0.84375,0.901010101010101,1.103846153846154,0.9151138716356108,1.078048780487805,1.0909090909090908,0.8638743455497382,0.9748549323017408,0.970954356846473,1.0171232876712328,2.8,1.0421245421245422,0.843065693430657,1.4625984251968505,1.126005361930295,1.104903078677309,1.1721991701244814,0.9382940108892922,1.0491071428571428,1.0505747126436782,0.85385500575374,0.8720770288858322,1.2248322147651007,1.490909090909091,0.8432432432432433,0.8852459016393442,0.9889807162534436,1.0138248847926268,1.0732919254658384,1.1477272727272727,0.9563409563409564,1.2376237623762376,1.0232558139534884,1.0070422535211268,1.1673387096774193,1.052924791086351,1.1206496519721578,0.9927536231884058,0.9684095860566448,0.8843612334801763,0.8873239436619719,0.7967032967032966,1.2074688796680495,0.7128342245989305,0.9440894568690096,0.9022140221402214,0.7225913621262459,0.8666666666666667,0.9664268585131894,1.0968660968660968,1.0895522388059702,1.1731984829329962,1.1851851851851851,1.0630749014454666,0.991869918699187,1.056379821958457,1.0526315789473684,0.9131403118040088,1.03921568627451,0.9507389162561576,0.7190889370932755,1.1505376344086022,2.3278688524590163,0.9553571428571428,0.9292035398230089,1.0565371024734982,1.0750605326876512,1.0841584158415842,1.146341463414634,1.0,0.8964028776978418,0.8685491723466408,1.0511695906432748,1.1044487427466152,1.1917098445595855,1.0505263157894738,1.2882352941176471,1.4151670951156812,0.9869831546707504,1.585987261146497,1.0843373493975903,1.0461538461538462,1.1784615384615384,0.8385416666666666,0.9135802469135802,0.994186046511628,0.9314641744548288,0.9114219114219114,0.889958734525447,1.2768496420047732,1.0650577124868836,0.7951807228915663,1.0609929078014184,1.049342105263158,1.0220440881763526,1.0365853658536586,1.376865671641791,0.8724614134849715,1.0089820359281436,0.8608695652173913,1.3122171945701355,1.0075187969924813,0.8892307692307693,0.9503105590062112,1.0,1.0352112676056338,0.9199101796407184,0.8816029143897997,1.1029850746268657,1.022222222222222,0.9100112485939258,1.1174785100286533,0.8936170212765957,1.0813397129186604,0.8765822784810127,0.8157181571815718,1.0,1.0807560137457044,0.9121338912133892,1.2037735849056603,0.7801857585139319,1.2706935123042506,0.9905362776025236,1.0944700460829493,1.0816696914700543,1.0252808988764044,0.8325581395348837,0.933993399339934,0.8435114503816794,0.6968805179517363,0.9864176570458404,0.7990196078431373,1.062135922330097,1.0635593220338984,1.1246200607902737,1.0179282868525896,1.0939334637964775,1.4966887417218544,1.5491071428571428,0.9572649572649572,1.1596091205211727,1.1535087719298245,0.8807339449541285,0.9943181818181818,0.986146095717884,0.8606403013182674,1.1304347826086956,1.1374269005847952,0.8146551724137931,0.9945054945054944,1.0310391363022942,1.0383631713554988,1.0578231292517006,0.9548133595284872,1.0604229607250757,1.0224032586558045,1.0571428571428572,0.954391891891892,1.0492307692307692,0.9460227272727272,0.83886925795053,0.7150537634408602,0.8627450980392157,0.996415770609319,1.046783625730994,0.9701149425287356,0.945868945868946,1.2834008097165992,1.0739957716701902,0.6933066933066933,0.8788819875776398,0.8653366583541147,0.6397884996695308,1.297752808988764,1.1472081218274113,1.15,0.7932489451476793,0.9064327485380116,0.9317073170731708,1.1147540983606556,1.0290858725761771,0.9559014267185474,0.8965853658536586,0.8640883977900552,0.9402985074626866,1.0694980694980696,1.1355555555555557,0.8966565349544073,1.2372881355932204,0.9726775956284152,1.251207729468599,0.8490322580645161,1.1126408010012516,0.8524590163934426,0.7152103559870551,1.142156862745098,1.059872611464968,0.925503943908852,0.9,0.8693957115009746,1.0781758957654723,1.0349462365591398,1.0365853658536586,0.9720496894409938,0.9385474860335196,1.183673469387755,1.1219512195121952,1.4048582995951415,1.07035175879397,1.154394299287411,1.1275626423690206,1.1130856219709209,0.967828418230563,0.9929328621908128,0.88875,1.4285714285714286,0.7461538461538462,0.997289972899729,0.9344262295081968,1.0226182316655243,2.269230769230769,0.9321728691476592,1.039092055485498,0.8962264150943396,1.0952380952380951,0.9596510359869138,0.9975031210986268,1.4067278287461773,1.0,0.9611650485436892,0.9134948096885812,1.0,0.876803551609323,0.9018245004344048,1.230603448275862,0.7810077519379846,1.0086206896551724,1.0548134500230308,0.9544827586206897,1.0213464696223318],\"yaxis\":\"y\",\"type\":\"scatter\"}],                        {\"template\":{\"data\":{\"histogram2dcontour\":[{\"type\":\"histogram2dcontour\",\"colorbar\":{\"outlinewidth\":0,\"ticks\":\"\"},\"colorscale\":[[0.0,\"#0d0887\"],[0.1111111111111111,\"#46039f\"],[0.2222222222222222,\"#7201a8\"],[0.3333333333333333,\"#9c179e\"],[0.4444444444444444,\"#bd3786\"],[0.5555555555555556,\"#d8576b\"],[0.6666666666666666,\"#ed7953\"],[0.7777777777777778,\"#fb9f3a\"],[0.8888888888888888,\"#fdca26\"],[1.0,\"#f0f921\"]]}],\"choropleth\":[{\"type\":\"choropleth\",\"colorbar\":{\"outlinewidth\":0,\"ticks\":\"\"}}],\"histogram2d\":[{\"type\":\"histogram2d\",\"colorbar\":{\"outlinewidth\":0,\"ticks\":\"\"},\"colorscale\":[[0.0,\"#0d0887\"],[0.1111111111111111,\"#46039f\"],[0.2222222222222222,\"#7201a8\"],[0.3333333333333333,\"#9c179e\"],[0.4444444444444444,\"#bd3786\"],[0.5555555555555556,\"#d8576b\"],[0.6666666666666666,\"#ed7953\"],[0.7777777777777778,\"#fb9f3a\"],[0.8888888888888888,\"#fdca26\"],[1.0,\"#f0f921\"]]}],\"heatmap\":[{\"type\":\"heatmap\",\"colorbar\":{\"outlinewidth\":0,\"ticks\":\"\"},\"colorscale\":[[0.0,\"#0d0887\"],[0.1111111111111111,\"#46039f\"],[0.2222222222222222,\"#7201a8\"],[0.3333333333333333,\"#9c179e\"],[0.4444444444444444,\"#bd3786\"],[0.5555555555555556,\"#d8576b\"],[0.6666666666666666,\"#ed7953\"],[0.7777777777777778,\"#fb9f3a\"],[0.8888888888888888,\"#fdca26\"],[1.0,\"#f0f921\"]]}],\"heatmapgl\":[{\"type\":\"heatmapgl\",\"colorbar\":{\"outlinewidth\":0,\"ticks\":\"\"},\"colorscale\":[[0.0,\"#0d0887\"],[0.1111111111111111,\"#46039f\"],[0.2222222222222222,\"#7201a8\"],[0.3333333333333333,\"#9c179e\"],[0.4444444444444444,\"#bd3786\"],[0.5555555555555556,\"#d8576b\"],[0.6666666666666666,\"#ed7953\"],[0.7777777777777778,\"#fb9f3a\"],[0.8888888888888888,\"#fdca26\"],[1.0,\"#f0f921\"]]}],\"contourcarpet\":[{\"type\":\"contourcarpet\",\"colorbar\":{\"outlinewidth\":0,\"ticks\":\"\"}}],\"contour\":[{\"type\":\"contour\",\"colorbar\":{\"outlinewidth\":0,\"ticks\":\"\"},\"colorscale\":[[0.0,\"#0d0887\"],[0.1111111111111111,\"#46039f\"],[0.2222222222222222,\"#7201a8\"],[0.3333333333333333,\"#9c179e\"],[0.4444444444444444,\"#bd3786\"],[0.5555555555555556,\"#d8576b\"],[0.6666666666666666,\"#ed7953\"],[0.7777777777777778,\"#fb9f3a\"],[0.8888888888888888,\"#fdca26\"],[1.0,\"#f0f921\"]]}],\"surface\":[{\"type\":\"surface\",\"colorbar\":{\"outlinewidth\":0,\"ticks\":\"\"},\"colorscale\":[[0.0,\"#0d0887\"],[0.1111111111111111,\"#46039f\"],[0.2222222222222222,\"#7201a8\"],[0.3333333333333333,\"#9c179e\"],[0.4444444444444444,\"#bd3786\"],[0.5555555555555556,\"#d8576b\"],[0.6666666666666666,\"#ed7953\"],[0.7777777777777778,\"#fb9f3a\"],[0.8888888888888888,\"#fdca26\"],[1.0,\"#f0f921\"]]}],\"mesh3d\":[{\"type\":\"mesh3d\",\"colorbar\":{\"outlinewidth\":0,\"ticks\":\"\"}}],\"scatter\":[{\"fillpattern\":{\"fillmode\":\"overlay\",\"size\":10,\"solidity\":0.2},\"type\":\"scatter\"}],\"parcoords\":[{\"type\":\"parcoords\",\"line\":{\"colorbar\":{\"outlinewidth\":0,\"ticks\":\"\"}}}],\"scatterpolargl\":[{\"type\":\"scatterpolargl\",\"marker\":{\"colorbar\":{\"outlinewidth\":0,\"ticks\":\"\"}}}],\"bar\":[{\"error_x\":{\"color\":\"#2a3f5f\"},\"error_y\":{\"color\":\"#2a3f5f\"},\"marker\":{\"line\":{\"color\":\"#E5ECF6\",\"width\":0.5},\"pattern\":{\"fillmode\":\"overlay\",\"size\":10,\"solidity\":0.2}},\"type\":\"bar\"}],\"scattergeo\":[{\"type\":\"scattergeo\",\"marker\":{\"colorbar\":{\"outlinewidth\":0,\"ticks\":\"\"}}}],\"scatterpolar\":[{\"type\":\"scatterpolar\",\"marker\":{\"colorbar\":{\"outlinewidth\":0,\"ticks\":\"\"}}}],\"histogram\":[{\"marker\":{\"pattern\":{\"fillmode\":\"overlay\",\"size\":10,\"solidity\":0.2}},\"type\":\"histogram\"}],\"scattergl\":[{\"type\":\"scattergl\",\"marker\":{\"colorbar\":{\"outlinewidth\":0,\"ticks\":\"\"}}}],\"scatter3d\":[{\"type\":\"scatter3d\",\"line\":{\"colorbar\":{\"outlinewidth\":0,\"ticks\":\"\"}},\"marker\":{\"colorbar\":{\"outlinewidth\":0,\"ticks\":\"\"}}}],\"scattermapbox\":[{\"type\":\"scattermapbox\",\"marker\":{\"colorbar\":{\"outlinewidth\":0,\"ticks\":\"\"}}}],\"scatterternary\":[{\"type\":\"scatterternary\",\"marker\":{\"colorbar\":{\"outlinewidth\":0,\"ticks\":\"\"}}}],\"scattercarpet\":[{\"type\":\"scattercarpet\",\"marker\":{\"colorbar\":{\"outlinewidth\":0,\"ticks\":\"\"}}}],\"carpet\":[{\"aaxis\":{\"endlinecolor\":\"#2a3f5f\",\"gridcolor\":\"white\",\"linecolor\":\"white\",\"minorgridcolor\":\"white\",\"startlinecolor\":\"#2a3f5f\"},\"baxis\":{\"endlinecolor\":\"#2a3f5f\",\"gridcolor\":\"white\",\"linecolor\":\"white\",\"minorgridcolor\":\"white\",\"startlinecolor\":\"#2a3f5f\"},\"type\":\"carpet\"}],\"table\":[{\"cells\":{\"fill\":{\"color\":\"#EBF0F8\"},\"line\":{\"color\":\"white\"}},\"header\":{\"fill\":{\"color\":\"#C8D4E3\"},\"line\":{\"color\":\"white\"}},\"type\":\"table\"}],\"barpolar\":[{\"marker\":{\"line\":{\"color\":\"#E5ECF6\",\"width\":0.5},\"pattern\":{\"fillmode\":\"overlay\",\"size\":10,\"solidity\":0.2}},\"type\":\"barpolar\"}],\"pie\":[{\"automargin\":true,\"type\":\"pie\"}]},\"layout\":{\"autotypenumbers\":\"strict\",\"colorway\":[\"#636efa\",\"#EF553B\",\"#00cc96\",\"#ab63fa\",\"#FFA15A\",\"#19d3f3\",\"#FF6692\",\"#B6E880\",\"#FF97FF\",\"#FECB52\"],\"font\":{\"color\":\"#2a3f5f\"},\"hovermode\":\"closest\",\"hoverlabel\":{\"align\":\"left\"},\"paper_bgcolor\":\"white\",\"plot_bgcolor\":\"#E5ECF6\",\"polar\":{\"bgcolor\":\"#E5ECF6\",\"angularaxis\":{\"gridcolor\":\"white\",\"linecolor\":\"white\",\"ticks\":\"\"},\"radialaxis\":{\"gridcolor\":\"white\",\"linecolor\":\"white\",\"ticks\":\"\"}},\"ternary\":{\"bgcolor\":\"#E5ECF6\",\"aaxis\":{\"gridcolor\":\"white\",\"linecolor\":\"white\",\"ticks\":\"\"},\"baxis\":{\"gridcolor\":\"white\",\"linecolor\":\"white\",\"ticks\":\"\"},\"caxis\":{\"gridcolor\":\"white\",\"linecolor\":\"white\",\"ticks\":\"\"}},\"coloraxis\":{\"colorbar\":{\"outlinewidth\":0,\"ticks\":\"\"}},\"colorscale\":{\"sequential\":[[0.0,\"#0d0887\"],[0.1111111111111111,\"#46039f\"],[0.2222222222222222,\"#7201a8\"],[0.3333333333333333,\"#9c179e\"],[0.4444444444444444,\"#bd3786\"],[0.5555555555555556,\"#d8576b\"],[0.6666666666666666,\"#ed7953\"],[0.7777777777777778,\"#fb9f3a\"],[0.8888888888888888,\"#fdca26\"],[1.0,\"#f0f921\"]],\"sequentialminus\":[[0.0,\"#0d0887\"],[0.1111111111111111,\"#46039f\"],[0.2222222222222222,\"#7201a8\"],[0.3333333333333333,\"#9c179e\"],[0.4444444444444444,\"#bd3786\"],[0.5555555555555556,\"#d8576b\"],[0.6666666666666666,\"#ed7953\"],[0.7777777777777778,\"#fb9f3a\"],[0.8888888888888888,\"#fdca26\"],[1.0,\"#f0f921\"]],\"diverging\":[[0,\"#8e0152\"],[0.1,\"#c51b7d\"],[0.2,\"#de77ae\"],[0.3,\"#f1b6da\"],[0.4,\"#fde0ef\"],[0.5,\"#f7f7f7\"],[0.6,\"#e6f5d0\"],[0.7,\"#b8e186\"],[0.8,\"#7fbc41\"],[0.9,\"#4d9221\"],[1,\"#276419\"]]},\"xaxis\":{\"gridcolor\":\"white\",\"linecolor\":\"white\",\"ticks\":\"\",\"title\":{\"standoff\":15},\"zerolinecolor\":\"white\",\"automargin\":true,\"zerolinewidth\":2},\"yaxis\":{\"gridcolor\":\"white\",\"linecolor\":\"white\",\"ticks\":\"\",\"title\":{\"standoff\":15},\"zerolinecolor\":\"white\",\"automargin\":true,\"zerolinewidth\":2},\"scene\":{\"xaxis\":{\"backgroundcolor\":\"#E5ECF6\",\"gridcolor\":\"white\",\"linecolor\":\"white\",\"showbackground\":true,\"ticks\":\"\",\"zerolinecolor\":\"white\",\"gridwidth\":2},\"yaxis\":{\"backgroundcolor\":\"#E5ECF6\",\"gridcolor\":\"white\",\"linecolor\":\"white\",\"showbackground\":true,\"ticks\":\"\",\"zerolinecolor\":\"white\",\"gridwidth\":2},\"zaxis\":{\"backgroundcolor\":\"#E5ECF6\",\"gridcolor\":\"white\",\"linecolor\":\"white\",\"showbackground\":true,\"ticks\":\"\",\"zerolinecolor\":\"white\",\"gridwidth\":2}},\"shapedefaults\":{\"line\":{\"color\":\"#2a3f5f\"}},\"annotationdefaults\":{\"arrowcolor\":\"#2a3f5f\",\"arrowhead\":0,\"arrowwidth\":1},\"geo\":{\"bgcolor\":\"white\",\"landcolor\":\"#E5ECF6\",\"subunitcolor\":\"white\",\"showland\":true,\"showlakes\":true,\"lakecolor\":\"white\"},\"title\":{\"x\":0.05},\"mapbox\":{\"style\":\"light\"}}},\"xaxis\":{\"anchor\":\"y\",\"domain\":[0.0,1.0],\"title\":{\"text\":\"Station Index\"}},\"yaxis\":{\"anchor\":\"x\",\"domain\":[0.0,1.0],\"title\":{\"text\":\"Start\\u002fEnd Ratio\"}},\"legend\":{\"tracegroupgap\":0},\"title\":{\"text\":\"Start\\u002fEnd Ratio for Each Station\"}},                        {\"responsive\": true}                    ).then(function(){\n",
       "                            \n",
       "var gd = document.getElementById('ef25db11-ffcf-4c7d-9b8c-d3cbee2884ab');\n",
       "var x = new MutationObserver(function (mutations, observer) {{\n",
       "        var display = window.getComputedStyle(gd).display;\n",
       "        if (!display || display === 'none') {{\n",
       "            console.log([gd, 'removed!']);\n",
       "            Plotly.purge(gd);\n",
       "            observer.disconnect();\n",
       "        }}\n",
       "}});\n",
       "\n",
       "// Listen for the removal of the full notebook cells\n",
       "var notebookContainer = gd.closest('#notebook-container');\n",
       "if (notebookContainer) {{\n",
       "    x.observe(notebookContainer, {childList: true});\n",
       "}}\n",
       "\n",
       "// Listen for the clearing of the current output cell\n",
       "var outputEl = gd.closest('.output');\n",
       "if (outputEl) {{\n",
       "    x.observe(outputEl, {childList: true});\n",
       "}}\n",
       "\n",
       "                        })                };                });            </script>        </div>"
      ]
     },
     "metadata": {},
     "output_type": "display_data"
    }
   ],
   "source": [
    "import pandas as pd\n",
    "import plotly.express as px\n",
    "\n",
    "# Load your data\n",
    "file_path = 'Data/Results/station_trip_counts_with_communities.csv'\n",
    "df = pd.read_csv(file_path)\n",
    "\n",
    "# Assuming station_trip_counts is your DataFrame with the 'Start/End' column\n",
    "station_trip_counts = df  # Replace with your actual DataFrame if different\n",
    "\n",
    "# Create the interactive scatter plot\n",
    "fig = px.scatter(\n",
    "    station_trip_counts,\n",
    "    x=range(len(station_trip_counts)),  # X-axis as the index of stations\n",
    "    y='Start/End',                      # Y-axis as the Start/End ratio\n",
    "    hover_name='Station',               # The station name will be shown on hover\n",
    "    title='Start/End Ratio for Each Station',\n",
    "    labels={'x': 'Station Index', 'Start/End': 'Start/End Ratio'},\n",
    "    hover_data={'Start Count': True, 'End Count': True, 'Total Trips': True},  # More info on hover\n",
    ")\n",
    "\n",
    "# Show the plot\n",
    "fig.show()\n",
    "\n",
    "# Save the plot as an HTML file\n",
    "fig.write_html('Data/Results/start_end_ratio_for_each_station.html')\n",
    "\n",
    "\n",
    "# # Save the plot as a PDF file\n",
    "# fig.write_image('start_end_ratio_for_each_station.pdf')"
   ]
  },
  {
   "cell_type": "markdown",
   "id": "6346574a-f898-4b14-892d-d9ea2b30edb7",
   "metadata": {},
   "source": [
    "Looking at communities"
   ]
  },
  {
   "cell_type": "code",
   "execution_count": 16,
   "id": "d5b5d327-7391-486e-af0a-2a8637f66e35",
   "metadata": {
    "tags": []
   },
   "outputs": [
    {
     "name": "stdout",
     "output_type": "stream",
     "text": [
      "   Community  Start Count  End Count  Total Trips  Start/End\n",
      "1          1        65483      64135       129618   1.021018\n",
      "0          0        61279      59554       120833   1.028965\n",
      "2          2        51615      53526       105141   0.964298\n",
      "3          3        33200      34362        67562   0.966184\n"
     ]
    }
   ],
   "source": [
    "import pandas as pd\n",
    "\n",
    "file_path = 'Data/Results/station_trip_counts_with_communities.csv'\n",
    "df = pd.read_csv(file_path)\n",
    "\n",
    "# Group by the start community and sum the trip counts\n",
    "community_trip_counts = station_trip_counts.groupby('Community').agg({\n",
    "    'Start Count': 'sum',\n",
    "    'End Count': 'sum',\n",
    "    'Total Trips': 'sum'\n",
    "}).reset_index()\n",
    "\n",
    "# Calculate the Start/End ratio for each community\n",
    "community_trip_counts['Start/End'] = community_trip_counts['Start Count'] / community_trip_counts['End Count']\n",
    "\n",
    "# Sort by total trips or Start/End ratio for analysis\n",
    "community_trip_counts_sorted = community_trip_counts.sort_values(by='Total Trips', ascending=False)\n",
    "\n",
    "# Display the community-level data\n",
    "print(community_trip_counts_sorted)\n"
   ]
  },
  {
   "cell_type": "code",
   "execution_count": 17,
   "id": "702ffcb0-c6f1-4450-96af-46f3bf4a7037",
   "metadata": {
    "tags": []
   },
   "outputs": [
    {
     "data": {
      "application/vnd.plotly.v1+json": {
       "config": {
        "plotlyServerURL": "https://plot.ly"
       },
       "data": [
        {
         "alignmentgroup": "True",
         "customdata": [
          [
           65483,
           64135,
           1.0210181648086067
          ],
          [
           61279,
           59554,
           1.028965308795379
          ],
          [
           51615,
           53526,
           0.9642977244703509
          ],
          [
           33200,
           34362,
           0.966183574879227
          ]
         ],
         "hovertemplate": "Community=%{x}<br>Total Trips=%{y}<br>Start Count=%{customdata[0]}<br>End Count=%{customdata[1]}<br>Start/End=%{customdata[2]}<extra></extra>",
         "legendgroup": "",
         "marker": {
          "color": "#636efa",
          "pattern": {
           "shape": ""
          }
         },
         "name": "",
         "offsetgroup": "",
         "orientation": "v",
         "showlegend": false,
         "textposition": "auto",
         "type": "bar",
         "x": [
          1,
          0,
          2,
          3
         ],
         "xaxis": "x",
         "y": [
          129618,
          120833,
          105141,
          67562
         ],
         "yaxis": "y"
        }
       ],
       "layout": {
        "autosize": true,
        "barmode": "relative",
        "legend": {
         "tracegroupgap": 0
        },
        "template": {
         "data": {
          "bar": [
           {
            "error_x": {
             "color": "#2a3f5f"
            },
            "error_y": {
             "color": "#2a3f5f"
            },
            "marker": {
             "line": {
              "color": "#E5ECF6",
              "width": 0.5
             },
             "pattern": {
              "fillmode": "overlay",
              "size": 10,
              "solidity": 0.2
             }
            },
            "type": "bar"
           }
          ],
          "barpolar": [
           {
            "marker": {
             "line": {
              "color": "#E5ECF6",
              "width": 0.5
             },
             "pattern": {
              "fillmode": "overlay",
              "size": 10,
              "solidity": 0.2
             }
            },
            "type": "barpolar"
           }
          ],
          "carpet": [
           {
            "aaxis": {
             "endlinecolor": "#2a3f5f",
             "gridcolor": "white",
             "linecolor": "white",
             "minorgridcolor": "white",
             "startlinecolor": "#2a3f5f"
            },
            "baxis": {
             "endlinecolor": "#2a3f5f",
             "gridcolor": "white",
             "linecolor": "white",
             "minorgridcolor": "white",
             "startlinecolor": "#2a3f5f"
            },
            "type": "carpet"
           }
          ],
          "choropleth": [
           {
            "colorbar": {
             "outlinewidth": 0,
             "ticks": ""
            },
            "type": "choropleth"
           }
          ],
          "contour": [
           {
            "colorbar": {
             "outlinewidth": 0,
             "ticks": ""
            },
            "colorscale": [
             [
              0,
              "#0d0887"
             ],
             [
              0.1111111111111111,
              "#46039f"
             ],
             [
              0.2222222222222222,
              "#7201a8"
             ],
             [
              0.3333333333333333,
              "#9c179e"
             ],
             [
              0.4444444444444444,
              "#bd3786"
             ],
             [
              0.5555555555555556,
              "#d8576b"
             ],
             [
              0.6666666666666666,
              "#ed7953"
             ],
             [
              0.7777777777777778,
              "#fb9f3a"
             ],
             [
              0.8888888888888888,
              "#fdca26"
             ],
             [
              1,
              "#f0f921"
             ]
            ],
            "type": "contour"
           }
          ],
          "contourcarpet": [
           {
            "colorbar": {
             "outlinewidth": 0,
             "ticks": ""
            },
            "type": "contourcarpet"
           }
          ],
          "heatmap": [
           {
            "colorbar": {
             "outlinewidth": 0,
             "ticks": ""
            },
            "colorscale": [
             [
              0,
              "#0d0887"
             ],
             [
              0.1111111111111111,
              "#46039f"
             ],
             [
              0.2222222222222222,
              "#7201a8"
             ],
             [
              0.3333333333333333,
              "#9c179e"
             ],
             [
              0.4444444444444444,
              "#bd3786"
             ],
             [
              0.5555555555555556,
              "#d8576b"
             ],
             [
              0.6666666666666666,
              "#ed7953"
             ],
             [
              0.7777777777777778,
              "#fb9f3a"
             ],
             [
              0.8888888888888888,
              "#fdca26"
             ],
             [
              1,
              "#f0f921"
             ]
            ],
            "type": "heatmap"
           }
          ],
          "heatmapgl": [
           {
            "colorbar": {
             "outlinewidth": 0,
             "ticks": ""
            },
            "colorscale": [
             [
              0,
              "#0d0887"
             ],
             [
              0.1111111111111111,
              "#46039f"
             ],
             [
              0.2222222222222222,
              "#7201a8"
             ],
             [
              0.3333333333333333,
              "#9c179e"
             ],
             [
              0.4444444444444444,
              "#bd3786"
             ],
             [
              0.5555555555555556,
              "#d8576b"
             ],
             [
              0.6666666666666666,
              "#ed7953"
             ],
             [
              0.7777777777777778,
              "#fb9f3a"
             ],
             [
              0.8888888888888888,
              "#fdca26"
             ],
             [
              1,
              "#f0f921"
             ]
            ],
            "type": "heatmapgl"
           }
          ],
          "histogram": [
           {
            "marker": {
             "pattern": {
              "fillmode": "overlay",
              "size": 10,
              "solidity": 0.2
             }
            },
            "type": "histogram"
           }
          ],
          "histogram2d": [
           {
            "colorbar": {
             "outlinewidth": 0,
             "ticks": ""
            },
            "colorscale": [
             [
              0,
              "#0d0887"
             ],
             [
              0.1111111111111111,
              "#46039f"
             ],
             [
              0.2222222222222222,
              "#7201a8"
             ],
             [
              0.3333333333333333,
              "#9c179e"
             ],
             [
              0.4444444444444444,
              "#bd3786"
             ],
             [
              0.5555555555555556,
              "#d8576b"
             ],
             [
              0.6666666666666666,
              "#ed7953"
             ],
             [
              0.7777777777777778,
              "#fb9f3a"
             ],
             [
              0.8888888888888888,
              "#fdca26"
             ],
             [
              1,
              "#f0f921"
             ]
            ],
            "type": "histogram2d"
           }
          ],
          "histogram2dcontour": [
           {
            "colorbar": {
             "outlinewidth": 0,
             "ticks": ""
            },
            "colorscale": [
             [
              0,
              "#0d0887"
             ],
             [
              0.1111111111111111,
              "#46039f"
             ],
             [
              0.2222222222222222,
              "#7201a8"
             ],
             [
              0.3333333333333333,
              "#9c179e"
             ],
             [
              0.4444444444444444,
              "#bd3786"
             ],
             [
              0.5555555555555556,
              "#d8576b"
             ],
             [
              0.6666666666666666,
              "#ed7953"
             ],
             [
              0.7777777777777778,
              "#fb9f3a"
             ],
             [
              0.8888888888888888,
              "#fdca26"
             ],
             [
              1,
              "#f0f921"
             ]
            ],
            "type": "histogram2dcontour"
           }
          ],
          "mesh3d": [
           {
            "colorbar": {
             "outlinewidth": 0,
             "ticks": ""
            },
            "type": "mesh3d"
           }
          ],
          "parcoords": [
           {
            "line": {
             "colorbar": {
              "outlinewidth": 0,
              "ticks": ""
             }
            },
            "type": "parcoords"
           }
          ],
          "pie": [
           {
            "automargin": true,
            "type": "pie"
           }
          ],
          "scatter": [
           {
            "fillpattern": {
             "fillmode": "overlay",
             "size": 10,
             "solidity": 0.2
            },
            "type": "scatter"
           }
          ],
          "scatter3d": [
           {
            "line": {
             "colorbar": {
              "outlinewidth": 0,
              "ticks": ""
             }
            },
            "marker": {
             "colorbar": {
              "outlinewidth": 0,
              "ticks": ""
             }
            },
            "type": "scatter3d"
           }
          ],
          "scattercarpet": [
           {
            "marker": {
             "colorbar": {
              "outlinewidth": 0,
              "ticks": ""
             }
            },
            "type": "scattercarpet"
           }
          ],
          "scattergeo": [
           {
            "marker": {
             "colorbar": {
              "outlinewidth": 0,
              "ticks": ""
             }
            },
            "type": "scattergeo"
           }
          ],
          "scattergl": [
           {
            "marker": {
             "colorbar": {
              "outlinewidth": 0,
              "ticks": ""
             }
            },
            "type": "scattergl"
           }
          ],
          "scattermapbox": [
           {
            "marker": {
             "colorbar": {
              "outlinewidth": 0,
              "ticks": ""
             }
            },
            "type": "scattermapbox"
           }
          ],
          "scatterpolar": [
           {
            "marker": {
             "colorbar": {
              "outlinewidth": 0,
              "ticks": ""
             }
            },
            "type": "scatterpolar"
           }
          ],
          "scatterpolargl": [
           {
            "marker": {
             "colorbar": {
              "outlinewidth": 0,
              "ticks": ""
             }
            },
            "type": "scatterpolargl"
           }
          ],
          "scatterternary": [
           {
            "marker": {
             "colorbar": {
              "outlinewidth": 0,
              "ticks": ""
             }
            },
            "type": "scatterternary"
           }
          ],
          "surface": [
           {
            "colorbar": {
             "outlinewidth": 0,
             "ticks": ""
            },
            "colorscale": [
             [
              0,
              "#0d0887"
             ],
             [
              0.1111111111111111,
              "#46039f"
             ],
             [
              0.2222222222222222,
              "#7201a8"
             ],
             [
              0.3333333333333333,
              "#9c179e"
             ],
             [
              0.4444444444444444,
              "#bd3786"
             ],
             [
              0.5555555555555556,
              "#d8576b"
             ],
             [
              0.6666666666666666,
              "#ed7953"
             ],
             [
              0.7777777777777778,
              "#fb9f3a"
             ],
             [
              0.8888888888888888,
              "#fdca26"
             ],
             [
              1,
              "#f0f921"
             ]
            ],
            "type": "surface"
           }
          ],
          "table": [
           {
            "cells": {
             "fill": {
              "color": "#EBF0F8"
             },
             "line": {
              "color": "white"
             }
            },
            "header": {
             "fill": {
              "color": "#C8D4E3"
             },
             "line": {
              "color": "white"
             }
            },
            "type": "table"
           }
          ]
         },
         "layout": {
          "annotationdefaults": {
           "arrowcolor": "#2a3f5f",
           "arrowhead": 0,
           "arrowwidth": 1
          },
          "autotypenumbers": "strict",
          "coloraxis": {
           "colorbar": {
            "outlinewidth": 0,
            "ticks": ""
           }
          },
          "colorscale": {
           "diverging": [
            [
             0,
             "#8e0152"
            ],
            [
             0.1,
             "#c51b7d"
            ],
            [
             0.2,
             "#de77ae"
            ],
            [
             0.3,
             "#f1b6da"
            ],
            [
             0.4,
             "#fde0ef"
            ],
            [
             0.5,
             "#f7f7f7"
            ],
            [
             0.6,
             "#e6f5d0"
            ],
            [
             0.7,
             "#b8e186"
            ],
            [
             0.8,
             "#7fbc41"
            ],
            [
             0.9,
             "#4d9221"
            ],
            [
             1,
             "#276419"
            ]
           ],
           "sequential": [
            [
             0,
             "#0d0887"
            ],
            [
             0.1111111111111111,
             "#46039f"
            ],
            [
             0.2222222222222222,
             "#7201a8"
            ],
            [
             0.3333333333333333,
             "#9c179e"
            ],
            [
             0.4444444444444444,
             "#bd3786"
            ],
            [
             0.5555555555555556,
             "#d8576b"
            ],
            [
             0.6666666666666666,
             "#ed7953"
            ],
            [
             0.7777777777777778,
             "#fb9f3a"
            ],
            [
             0.8888888888888888,
             "#fdca26"
            ],
            [
             1,
             "#f0f921"
            ]
           ],
           "sequentialminus": [
            [
             0,
             "#0d0887"
            ],
            [
             0.1111111111111111,
             "#46039f"
            ],
            [
             0.2222222222222222,
             "#7201a8"
            ],
            [
             0.3333333333333333,
             "#9c179e"
            ],
            [
             0.4444444444444444,
             "#bd3786"
            ],
            [
             0.5555555555555556,
             "#d8576b"
            ],
            [
             0.6666666666666666,
             "#ed7953"
            ],
            [
             0.7777777777777778,
             "#fb9f3a"
            ],
            [
             0.8888888888888888,
             "#fdca26"
            ],
            [
             1,
             "#f0f921"
            ]
           ]
          },
          "colorway": [
           "#636efa",
           "#EF553B",
           "#00cc96",
           "#ab63fa",
           "#FFA15A",
           "#19d3f3",
           "#FF6692",
           "#B6E880",
           "#FF97FF",
           "#FECB52"
          ],
          "font": {
           "color": "#2a3f5f"
          },
          "geo": {
           "bgcolor": "white",
           "lakecolor": "white",
           "landcolor": "#E5ECF6",
           "showlakes": true,
           "showland": true,
           "subunitcolor": "white"
          },
          "hoverlabel": {
           "align": "left"
          },
          "hovermode": "closest",
          "mapbox": {
           "style": "light"
          },
          "paper_bgcolor": "white",
          "plot_bgcolor": "#E5ECF6",
          "polar": {
           "angularaxis": {
            "gridcolor": "white",
            "linecolor": "white",
            "ticks": ""
           },
           "bgcolor": "#E5ECF6",
           "radialaxis": {
            "gridcolor": "white",
            "linecolor": "white",
            "ticks": ""
           }
          },
          "scene": {
           "xaxis": {
            "backgroundcolor": "#E5ECF6",
            "gridcolor": "white",
            "gridwidth": 2,
            "linecolor": "white",
            "showbackground": true,
            "ticks": "",
            "zerolinecolor": "white"
           },
           "yaxis": {
            "backgroundcolor": "#E5ECF6",
            "gridcolor": "white",
            "gridwidth": 2,
            "linecolor": "white",
            "showbackground": true,
            "ticks": "",
            "zerolinecolor": "white"
           },
           "zaxis": {
            "backgroundcolor": "#E5ECF6",
            "gridcolor": "white",
            "gridwidth": 2,
            "linecolor": "white",
            "showbackground": true,
            "ticks": "",
            "zerolinecolor": "white"
           }
          },
          "shapedefaults": {
           "line": {
            "color": "#2a3f5f"
           }
          },
          "ternary": {
           "aaxis": {
            "gridcolor": "white",
            "linecolor": "white",
            "ticks": ""
           },
           "baxis": {
            "gridcolor": "white",
            "linecolor": "white",
            "ticks": ""
           },
           "bgcolor": "#E5ECF6",
           "caxis": {
            "gridcolor": "white",
            "linecolor": "white",
            "ticks": ""
           }
          },
          "title": {
           "x": 0.05
          },
          "xaxis": {
           "automargin": true,
           "gridcolor": "white",
           "linecolor": "white",
           "ticks": "",
           "title": {
            "standoff": 15
           },
           "zerolinecolor": "white",
           "zerolinewidth": 2
          },
          "yaxis": {
           "automargin": true,
           "gridcolor": "white",
           "linecolor": "white",
           "ticks": "",
           "title": {
            "standoff": 15
           },
           "zerolinecolor": "white",
           "zerolinewidth": 2
          }
         }
        },
        "title": {
         "text": "Total Trips by Community"
        },
        "xaxis": {
         "anchor": "y",
         "autorange": true,
         "domain": [
          0,
          1
         ],
         "range": [
          -0.5,
          3.5
         ],
         "title": {
          "text": "Community"
         },
         "type": "linear"
        },
        "yaxis": {
         "anchor": "x",
         "autorange": true,
         "domain": [
          0,
          1
         ],
         "range": [
          0,
          136440
         ],
         "title": {
          "text": "Total Trips"
         },
         "type": "linear"
        }
       }
      },
      "image/png": "[encoded data removed]",
      "text/html": [
       "<div>                            <div id=\"8c34fcd2-8b64-4e28-a193-b0c4f8254513\" class=\"plotly-graph-div\" style=\"height:525px; width:100%;\"></div>            <script type=\"text/javascript\">                require([\"plotly\"], function(Plotly) {                    window.PLOTLYENV=window.PLOTLYENV || {};                                    if (document.getElementById(\"8c34fcd2-8b64-4e28-a193-b0c4f8254513\")) {                    Plotly.newPlot(                        \"8c34fcd2-8b64-4e28-a193-b0c4f8254513\",                        [{\"alignmentgroup\":\"True\",\"customdata\":[[65483.0,64135.0,1.0210181648086067],[61279.0,59554.0,1.028965308795379],[51615.0,53526.0,0.9642977244703509],[33200.0,34362.0,0.966183574879227]],\"hovertemplate\":\"Community=%{x}\\u003cbr\\u003eTotal Trips=%{y}\\u003cbr\\u003eStart Count=%{customdata[0]}\\u003cbr\\u003eEnd Count=%{customdata[1]}\\u003cbr\\u003eStart\\u002fEnd=%{customdata[2]}\\u003cextra\\u003e\\u003c\\u002fextra\\u003e\",\"legendgroup\":\"\",\"marker\":{\"color\":\"#636efa\",\"pattern\":{\"shape\":\"\"}},\"name\":\"\",\"offsetgroup\":\"\",\"orientation\":\"v\",\"showlegend\":false,\"textposition\":\"auto\",\"x\":[1,0,2,3],\"xaxis\":\"x\",\"y\":[129618,120833,105141,67562],\"yaxis\":\"y\",\"type\":\"bar\"}],                        {\"template\":{\"data\":{\"histogram2dcontour\":[{\"type\":\"histogram2dcontour\",\"colorbar\":{\"outlinewidth\":0,\"ticks\":\"\"},\"colorscale\":[[0.0,\"#0d0887\"],[0.1111111111111111,\"#46039f\"],[0.2222222222222222,\"#7201a8\"],[0.3333333333333333,\"#9c179e\"],[0.4444444444444444,\"#bd3786\"],[0.5555555555555556,\"#d8576b\"],[0.6666666666666666,\"#ed7953\"],[0.7777777777777778,\"#fb9f3a\"],[0.8888888888888888,\"#fdca26\"],[1.0,\"#f0f921\"]]}],\"choropleth\":[{\"type\":\"choropleth\",\"colorbar\":{\"outlinewidth\":0,\"ticks\":\"\"}}],\"histogram2d\":[{\"type\":\"histogram2d\",\"colorbar\":{\"outlinewidth\":0,\"ticks\":\"\"},\"colorscale\":[[0.0,\"#0d0887\"],[0.1111111111111111,\"#46039f\"],[0.2222222222222222,\"#7201a8\"],[0.3333333333333333,\"#9c179e\"],[0.4444444444444444,\"#bd3786\"],[0.5555555555555556,\"#d8576b\"],[0.6666666666666666,\"#ed7953\"],[0.7777777777777778,\"#fb9f3a\"],[0.8888888888888888,\"#fdca26\"],[1.0,\"#f0f921\"]]}],\"heatmap\":[{\"type\":\"heatmap\",\"colorbar\":{\"outlinewidth\":0,\"ticks\":\"\"},\"colorscale\":[[0.0,\"#0d0887\"],[0.1111111111111111,\"#46039f\"],[0.2222222222222222,\"#7201a8\"],[0.3333333333333333,\"#9c179e\"],[0.4444444444444444,\"#bd3786\"],[0.5555555555555556,\"#d8576b\"],[0.6666666666666666,\"#ed7953\"],[0.7777777777777778,\"#fb9f3a\"],[0.8888888888888888,\"#fdca26\"],[1.0,\"#f0f921\"]]}],\"heatmapgl\":[{\"type\":\"heatmapgl\",\"colorbar\":{\"outlinewidth\":0,\"ticks\":\"\"},\"colorscale\":[[0.0,\"#0d0887\"],[0.1111111111111111,\"#46039f\"],[0.2222222222222222,\"#7201a8\"],[0.3333333333333333,\"#9c179e\"],[0.4444444444444444,\"#bd3786\"],[0.5555555555555556,\"#d8576b\"],[0.6666666666666666,\"#ed7953\"],[0.7777777777777778,\"#fb9f3a\"],[0.8888888888888888,\"#fdca26\"],[1.0,\"#f0f921\"]]}],\"contourcarpet\":[{\"type\":\"contourcarpet\",\"colorbar\":{\"outlinewidth\":0,\"ticks\":\"\"}}],\"contour\":[{\"type\":\"contour\",\"colorbar\":{\"outlinewidth\":0,\"ticks\":\"\"},\"colorscale\":[[0.0,\"#0d0887\"],[0.1111111111111111,\"#46039f\"],[0.2222222222222222,\"#7201a8\"],[0.3333333333333333,\"#9c179e\"],[0.4444444444444444,\"#bd3786\"],[0.5555555555555556,\"#d8576b\"],[0.6666666666666666,\"#ed7953\"],[0.7777777777777778,\"#fb9f3a\"],[0.8888888888888888,\"#fdca26\"],[1.0,\"#f0f921\"]]}],\"surface\":[{\"type\":\"surface\",\"colorbar\":{\"outlinewidth\":0,\"ticks\":\"\"},\"colorscale\":[[0.0,\"#0d0887\"],[0.1111111111111111,\"#46039f\"],[0.2222222222222222,\"#7201a8\"],[0.3333333333333333,\"#9c179e\"],[0.4444444444444444,\"#bd3786\"],[0.5555555555555556,\"#d8576b\"],[0.6666666666666666,\"#ed7953\"],[0.7777777777777778,\"#fb9f3a\"],[0.8888888888888888,\"#fdca26\"],[1.0,\"#f0f921\"]]}],\"mesh3d\":[{\"type\":\"mesh3d\",\"colorbar\":{\"outlinewidth\":0,\"ticks\":\"\"}}],\"scatter\":[{\"fillpattern\":{\"fillmode\":\"overlay\",\"size\":10,\"solidity\":0.2},\"type\":\"scatter\"}],\"parcoords\":[{\"type\":\"parcoords\",\"line\":{\"colorbar\":{\"outlinewidth\":0,\"ticks\":\"\"}}}],\"scatterpolargl\":[{\"type\":\"scatterpolargl\",\"marker\":{\"colorbar\":{\"outlinewidth\":0,\"ticks\":\"\"}}}],\"bar\":[{\"error_x\":{\"color\":\"#2a3f5f\"},\"error_y\":{\"color\":\"#2a3f5f\"},\"marker\":{\"line\":{\"color\":\"#E5ECF6\",\"width\":0.5},\"pattern\":{\"fillmode\":\"overlay\",\"size\":10,\"solidity\":0.2}},\"type\":\"bar\"}],\"scattergeo\":[{\"type\":\"scattergeo\",\"marker\":{\"colorbar\":{\"outlinewidth\":0,\"ticks\":\"\"}}}],\"scatterpolar\":[{\"type\":\"scatterpolar\",\"marker\":{\"colorbar\":{\"outlinewidth\":0,\"ticks\":\"\"}}}],\"histogram\":[{\"marker\":{\"pattern\":{\"fillmode\":\"overlay\",\"size\":10,\"solidity\":0.2}},\"type\":\"histogram\"}],\"scattergl\":[{\"type\":\"scattergl\",\"marker\":{\"colorbar\":{\"outlinewidth\":0,\"ticks\":\"\"}}}],\"scatter3d\":[{\"type\":\"scatter3d\",\"line\":{\"colorbar\":{\"outlinewidth\":0,\"ticks\":\"\"}},\"marker\":{\"colorbar\":{\"outlinewidth\":0,\"ticks\":\"\"}}}],\"scattermapbox\":[{\"type\":\"scattermapbox\",\"marker\":{\"colorbar\":{\"outlinewidth\":0,\"ticks\":\"\"}}}],\"scatterternary\":[{\"type\":\"scatterternary\",\"marker\":{\"colorbar\":{\"outlinewidth\":0,\"ticks\":\"\"}}}],\"scattercarpet\":[{\"type\":\"scattercarpet\",\"marker\":{\"colorbar\":{\"outlinewidth\":0,\"ticks\":\"\"}}}],\"carpet\":[{\"aaxis\":{\"endlinecolor\":\"#2a3f5f\",\"gridcolor\":\"white\",\"linecolor\":\"white\",\"minorgridcolor\":\"white\",\"startlinecolor\":\"#2a3f5f\"},\"baxis\":{\"endlinecolor\":\"#2a3f5f\",\"gridcolor\":\"white\",\"linecolor\":\"white\",\"minorgridcolor\":\"white\",\"startlinecolor\":\"#2a3f5f\"},\"type\":\"carpet\"}],\"table\":[{\"cells\":{\"fill\":{\"color\":\"#EBF0F8\"},\"line\":{\"color\":\"white\"}},\"header\":{\"fill\":{\"color\":\"#C8D4E3\"},\"line\":{\"color\":\"white\"}},\"type\":\"table\"}],\"barpolar\":[{\"marker\":{\"line\":{\"color\":\"#E5ECF6\",\"width\":0.5},\"pattern\":{\"fillmode\":\"overlay\",\"size\":10,\"solidity\":0.2}},\"type\":\"barpolar\"}],\"pie\":[{\"automargin\":true,\"type\":\"pie\"}]},\"layout\":{\"autotypenumbers\":\"strict\",\"colorway\":[\"#636efa\",\"#EF553B\",\"#00cc96\",\"#ab63fa\",\"#FFA15A\",\"#19d3f3\",\"#FF6692\",\"#B6E880\",\"#FF97FF\",\"#FECB52\"],\"font\":{\"color\":\"#2a3f5f\"},\"hovermode\":\"closest\",\"hoverlabel\":{\"align\":\"left\"},\"paper_bgcolor\":\"white\",\"plot_bgcolor\":\"#E5ECF6\",\"polar\":{\"bgcolor\":\"#E5ECF6\",\"angularaxis\":{\"gridcolor\":\"white\",\"linecolor\":\"white\",\"ticks\":\"\"},\"radialaxis\":{\"gridcolor\":\"white\",\"linecolor\":\"white\",\"ticks\":\"\"}},\"ternary\":{\"bgcolor\":\"#E5ECF6\",\"aaxis\":{\"gridcolor\":\"white\",\"linecolor\":\"white\",\"ticks\":\"\"},\"baxis\":{\"gridcolor\":\"white\",\"linecolor\":\"white\",\"ticks\":\"\"},\"caxis\":{\"gridcolor\":\"white\",\"linecolor\":\"white\",\"ticks\":\"\"}},\"coloraxis\":{\"colorbar\":{\"outlinewidth\":0,\"ticks\":\"\"}},\"colorscale\":{\"sequential\":[[0.0,\"#0d0887\"],[0.1111111111111111,\"#46039f\"],[0.2222222222222222,\"#7201a8\"],[0.3333333333333333,\"#9c179e\"],[0.4444444444444444,\"#bd3786\"],[0.5555555555555556,\"#d8576b\"],[0.6666666666666666,\"#ed7953\"],[0.7777777777777778,\"#fb9f3a\"],[0.8888888888888888,\"#fdca26\"],[1.0,\"#f0f921\"]],\"sequentialminus\":[[0.0,\"#0d0887\"],[0.1111111111111111,\"#46039f\"],[0.2222222222222222,\"#7201a8\"],[0.3333333333333333,\"#9c179e\"],[0.4444444444444444,\"#bd3786\"],[0.5555555555555556,\"#d8576b\"],[0.6666666666666666,\"#ed7953\"],[0.7777777777777778,\"#fb9f3a\"],[0.8888888888888888,\"#fdca26\"],[1.0,\"#f0f921\"]],\"diverging\":[[0,\"#8e0152\"],[0.1,\"#c51b7d\"],[0.2,\"#de77ae\"],[0.3,\"#f1b6da\"],[0.4,\"#fde0ef\"],[0.5,\"#f7f7f7\"],[0.6,\"#e6f5d0\"],[0.7,\"#b8e186\"],[0.8,\"#7fbc41\"],[0.9,\"#4d9221\"],[1,\"#276419\"]]},\"xaxis\":{\"gridcolor\":\"white\",\"linecolor\":\"white\",\"ticks\":\"\",\"title\":{\"standoff\":15},\"zerolinecolor\":\"white\",\"automargin\":true,\"zerolinewidth\":2},\"yaxis\":{\"gridcolor\":\"white\",\"linecolor\":\"white\",\"ticks\":\"\",\"title\":{\"standoff\":15},\"zerolinecolor\":\"white\",\"automargin\":true,\"zerolinewidth\":2},\"scene\":{\"xaxis\":{\"backgroundcolor\":\"#E5ECF6\",\"gridcolor\":\"white\",\"linecolor\":\"white\",\"showbackground\":true,\"ticks\":\"\",\"zerolinecolor\":\"white\",\"gridwidth\":2},\"yaxis\":{\"backgroundcolor\":\"#E5ECF6\",\"gridcolor\":\"white\",\"linecolor\":\"white\",\"showbackground\":true,\"ticks\":\"\",\"zerolinecolor\":\"white\",\"gridwidth\":2},\"zaxis\":{\"backgroundcolor\":\"#E5ECF6\",\"gridcolor\":\"white\",\"linecolor\":\"white\",\"showbackground\":true,\"ticks\":\"\",\"zerolinecolor\":\"white\",\"gridwidth\":2}},\"shapedefaults\":{\"line\":{\"color\":\"#2a3f5f\"}},\"annotationdefaults\":{\"arrowcolor\":\"#2a3f5f\",\"arrowhead\":0,\"arrowwidth\":1},\"geo\":{\"bgcolor\":\"white\",\"landcolor\":\"#E5ECF6\",\"subunitcolor\":\"white\",\"showland\":true,\"showlakes\":true,\"lakecolor\":\"white\"},\"title\":{\"x\":0.05},\"mapbox\":{\"style\":\"light\"}}},\"xaxis\":{\"anchor\":\"y\",\"domain\":[0.0,1.0],\"title\":{\"text\":\"Community\"}},\"yaxis\":{\"anchor\":\"x\",\"domain\":[0.0,1.0],\"title\":{\"text\":\"Total Trips\"}},\"legend\":{\"tracegroupgap\":0},\"title\":{\"text\":\"Total Trips by Community\"},\"barmode\":\"relative\"},                        {\"responsive\": true}                    ).then(function(){\n",
       "                            \n",
       "var gd = document.getElementById('8c34fcd2-8b64-4e28-a193-b0c4f8254513');\n",
       "var x = new MutationObserver(function (mutations, observer) {{\n",
       "        var display = window.getComputedStyle(gd).display;\n",
       "        if (!display || display === 'none') {{\n",
       "            console.log([gd, 'removed!']);\n",
       "            Plotly.purge(gd);\n",
       "            observer.disconnect();\n",
       "        }}\n",
       "}});\n",
       "\n",
       "// Listen for the removal of the full notebook cells\n",
       "var notebookContainer = gd.closest('#notebook-container');\n",
       "if (notebookContainer) {{\n",
       "    x.observe(notebookContainer, {childList: true});\n",
       "}}\n",
       "\n",
       "// Listen for the clearing of the current output cell\n",
       "var outputEl = gd.closest('.output');\n",
       "if (outputEl) {{\n",
       "    x.observe(outputEl, {childList: true});\n",
       "}}\n",
       "\n",
       "                        })                };                });            </script>        </div>"
      ]
     },
     "metadata": {},
     "output_type": "display_data"
    },
    {
     "data": {
      "application/vnd.plotly.v1+json": {
       "config": {
        "plotlyServerURL": "https://plot.ly"
       },
       "data": [
        {
         "alignmentgroup": "True",
         "customdata": [
          [
           65483,
           64135,
           129618
          ],
          [
           61279,
           59554,
           120833
          ],
          [
           51615,
           53526,
           105141
          ],
          [
           33200,
           34362,
           67562
          ]
         ],
         "hovertemplate": "Community=%{x}<br>Start/End Ratio=%{y}<br>Start Count=%{customdata[0]}<br>End Count=%{customdata[1]}<br>Total Trips=%{customdata[2]}<extra></extra>",
         "legendgroup": "",
         "marker": {
          "color": "#636efa",
          "pattern": {
           "shape": ""
          }
         },
         "name": "",
         "offsetgroup": "",
         "orientation": "v",
         "showlegend": false,
         "textposition": "auto",
         "type": "bar",
         "x": [
          1,
          0,
          2,
          3
         ],
         "xaxis": "x",
         "y": [
          1.0210181648086067,
          1.028965308795379,
          0.9642977244703509,
          0.966183574879227
         ],
         "yaxis": "y"
        }
       ],
       "layout": {
        "autosize": true,
        "barmode": "relative",
        "legend": {
         "tracegroupgap": 0
        },
        "template": {
         "data": {
          "bar": [
           {
            "error_x": {
             "color": "#2a3f5f"
            },
            "error_y": {
             "color": "#2a3f5f"
            },
            "marker": {
             "line": {
              "color": "#E5ECF6",
              "width": 0.5
             },
             "pattern": {
              "fillmode": "overlay",
              "size": 10,
              "solidity": 0.2
             }
            },
            "type": "bar"
           }
          ],
          "barpolar": [
           {
            "marker": {
             "line": {
              "color": "#E5ECF6",
              "width": 0.5
             },
             "pattern": {
              "fillmode": "overlay",
              "size": 10,
              "solidity": 0.2
             }
            },
            "type": "barpolar"
           }
          ],
          "carpet": [
           {
            "aaxis": {
             "endlinecolor": "#2a3f5f",
             "gridcolor": "white",
             "linecolor": "white",
             "minorgridcolor": "white",
             "startlinecolor": "#2a3f5f"
            },
            "baxis": {
             "endlinecolor": "#2a3f5f",
             "gridcolor": "white",
             "linecolor": "white",
             "minorgridcolor": "white",
             "startlinecolor": "#2a3f5f"
            },
            "type": "carpet"
           }
          ],
          "choropleth": [
           {
            "colorbar": {
             "outlinewidth": 0,
             "ticks": ""
            },
            "type": "choropleth"
           }
          ],
          "contour": [
           {
            "colorbar": {
             "outlinewidth": 0,
             "ticks": ""
            },
            "colorscale": [
             [
              0,
              "#0d0887"
             ],
             [
              0.1111111111111111,
              "#46039f"
             ],
             [
              0.2222222222222222,
              "#7201a8"
             ],
             [
              0.3333333333333333,
              "#9c179e"
             ],
             [
              0.4444444444444444,
              "#bd3786"
             ],
             [
              0.5555555555555556,
              "#d8576b"
             ],
             [
              0.6666666666666666,
              "#ed7953"
             ],
             [
              0.7777777777777778,
              "#fb9f3a"
             ],
             [
              0.8888888888888888,
              "#fdca26"
             ],
             [
              1,
              "#f0f921"
             ]
            ],
            "type": "contour"
           }
          ],
          "contourcarpet": [
           {
            "colorbar": {
             "outlinewidth": 0,
             "ticks": ""
            },
            "type": "contourcarpet"
           }
          ],
          "heatmap": [
           {
            "colorbar": {
             "outlinewidth": 0,
             "ticks": ""
            },
            "colorscale": [
             [
              0,
              "#0d0887"
             ],
             [
              0.1111111111111111,
              "#46039f"
             ],
             [
              0.2222222222222222,
              "#7201a8"
             ],
             [
              0.3333333333333333,
              "#9c179e"
             ],
             [
              0.4444444444444444,
              "#bd3786"
             ],
             [
              0.5555555555555556,
              "#d8576b"
             ],
             [
              0.6666666666666666,
              "#ed7953"
             ],
             [
              0.7777777777777778,
              "#fb9f3a"
             ],
             [
              0.8888888888888888,
              "#fdca26"
             ],
             [
              1,
              "#f0f921"
             ]
            ],
            "type": "heatmap"
           }
          ],
          "heatmapgl": [
           {
            "colorbar": {
             "outlinewidth": 0,
             "ticks": ""
            },
            "colorscale": [
             [
              0,
              "#0d0887"
             ],
             [
              0.1111111111111111,
              "#46039f"
             ],
             [
              0.2222222222222222,
              "#7201a8"
             ],
             [
              0.3333333333333333,
              "#9c179e"
             ],
             [
              0.4444444444444444,
              "#bd3786"
             ],
             [
              0.5555555555555556,
              "#d8576b"
             ],
             [
              0.6666666666666666,
              "#ed7953"
             ],
             [
              0.7777777777777778,
              "#fb9f3a"
             ],
             [
              0.8888888888888888,
              "#fdca26"
             ],
             [
              1,
              "#f0f921"
             ]
            ],
            "type": "heatmapgl"
           }
          ],
          "histogram": [
           {
            "marker": {
             "pattern": {
              "fillmode": "overlay",
              "size": 10,
              "solidity": 0.2
             }
            },
            "type": "histogram"
           }
          ],
          "histogram2d": [
           {
            "colorbar": {
             "outlinewidth": 0,
             "ticks": ""
            },
            "colorscale": [
             [
              0,
              "#0d0887"
             ],
             [
              0.1111111111111111,
              "#46039f"
             ],
             [
              0.2222222222222222,
              "#7201a8"
             ],
             [
              0.3333333333333333,
              "#9c179e"
             ],
             [
              0.4444444444444444,
              "#bd3786"
             ],
             [
              0.5555555555555556,
              "#d8576b"
             ],
             [
              0.6666666666666666,
              "#ed7953"
             ],
             [
              0.7777777777777778,
              "#fb9f3a"
             ],
             [
              0.8888888888888888,
              "#fdca26"
             ],
             [
              1,
              "#f0f921"
             ]
            ],
            "type": "histogram2d"
           }
          ],
          "histogram2dcontour": [
           {
            "colorbar": {
             "outlinewidth": 0,
             "ticks": ""
            },
            "colorscale": [
             [
              0,
              "#0d0887"
             ],
             [
              0.1111111111111111,
              "#46039f"
             ],
             [
              0.2222222222222222,
              "#7201a8"
             ],
             [
              0.3333333333333333,
              "#9c179e"
             ],
             [
              0.4444444444444444,
              "#bd3786"
             ],
             [
              0.5555555555555556,
              "#d8576b"
             ],
             [
              0.6666666666666666,
              "#ed7953"
             ],
             [
              0.7777777777777778,
              "#fb9f3a"
             ],
             [
              0.8888888888888888,
              "#fdca26"
             ],
             [
              1,
              "#f0f921"
             ]
            ],
            "type": "histogram2dcontour"
           }
          ],
          "mesh3d": [
           {
            "colorbar": {
             "outlinewidth": 0,
             "ticks": ""
            },
            "type": "mesh3d"
           }
          ],
          "parcoords": [
           {
            "line": {
             "colorbar": {
              "outlinewidth": 0,
              "ticks": ""
             }
            },
            "type": "parcoords"
           }
          ],
          "pie": [
           {
            "automargin": true,
            "type": "pie"
           }
          ],
          "scatter": [
           {
            "fillpattern": {
             "fillmode": "overlay",
             "size": 10,
             "solidity": 0.2
            },
            "type": "scatter"
           }
          ],
          "scatter3d": [
           {
            "line": {
             "colorbar": {
              "outlinewidth": 0,
              "ticks": ""
             }
            },
            "marker": {
             "colorbar": {
              "outlinewidth": 0,
              "ticks": ""
             }
            },
            "type": "scatter3d"
           }
          ],
          "scattercarpet": [
           {
            "marker": {
             "colorbar": {
              "outlinewidth": 0,
              "ticks": ""
             }
            },
            "type": "scattercarpet"
           }
          ],
          "scattergeo": [
           {
            "marker": {
             "colorbar": {
              "outlinewidth": 0,
              "ticks": ""
             }
            },
            "type": "scattergeo"
           }
          ],
          "scattergl": [
           {
            "marker": {
             "colorbar": {
              "outlinewidth": 0,
              "ticks": ""
             }
            },
            "type": "scattergl"
           }
          ],
          "scattermapbox": [
           {
            "marker": {
             "colorbar": {
              "outlinewidth": 0,
              "ticks": ""
             }
            },
            "type": "scattermapbox"
           }
          ],
          "scatterpolar": [
           {
            "marker": {
             "colorbar": {
              "outlinewidth": 0,
              "ticks": ""
             }
            },
            "type": "scatterpolar"
           }
          ],
          "scatterpolargl": [
           {
            "marker": {
             "colorbar": {
              "outlinewidth": 0,
              "ticks": ""
             }
            },
            "type": "scatterpolargl"
           }
          ],
          "scatterternary": [
           {
            "marker": {
             "colorbar": {
              "outlinewidth": 0,
              "ticks": ""
             }
            },
            "type": "scatterternary"
           }
          ],
          "surface": [
           {
            "colorbar": {
             "outlinewidth": 0,
             "ticks": ""
            },
            "colorscale": [
             [
              0,
              "#0d0887"
             ],
             [
              0.1111111111111111,
              "#46039f"
             ],
             [
              0.2222222222222222,
              "#7201a8"
             ],
             [
              0.3333333333333333,
              "#9c179e"
             ],
             [
              0.4444444444444444,
              "#bd3786"
             ],
             [
              0.5555555555555556,
              "#d8576b"
             ],
             [
              0.6666666666666666,
              "#ed7953"
             ],
             [
              0.7777777777777778,
              "#fb9f3a"
             ],
             [
              0.8888888888888888,
              "#fdca26"
             ],
             [
              1,
              "#f0f921"
             ]
            ],
            "type": "surface"
           }
          ],
          "table": [
           {
            "cells": {
             "fill": {
              "color": "#EBF0F8"
             },
             "line": {
              "color": "white"
             }
            },
            "header": {
             "fill": {
              "color": "#C8D4E3"
             },
             "line": {
              "color": "white"
             }
            },
            "type": "table"
           }
          ]
         },
         "layout": {
          "annotationdefaults": {
           "arrowcolor": "#2a3f5f",
           "arrowhead": 0,
           "arrowwidth": 1
          },
          "autotypenumbers": "strict",
          "coloraxis": {
           "colorbar": {
            "outlinewidth": 0,
            "ticks": ""
           }
          },
          "colorscale": {
           "diverging": [
            [
             0,
             "#8e0152"
            ],
            [
             0.1,
             "#c51b7d"
            ],
            [
             0.2,
             "#de77ae"
            ],
            [
             0.3,
             "#f1b6da"
            ],
            [
             0.4,
             "#fde0ef"
            ],
            [
             0.5,
             "#f7f7f7"
            ],
            [
             0.6,
             "#e6f5d0"
            ],
            [
             0.7,
             "#b8e186"
            ],
            [
             0.8,
             "#7fbc41"
            ],
            [
             0.9,
             "#4d9221"
            ],
            [
             1,
             "#276419"
            ]
           ],
           "sequential": [
            [
             0,
             "#0d0887"
            ],
            [
             0.1111111111111111,
             "#46039f"
            ],
            [
             0.2222222222222222,
             "#7201a8"
            ],
            [
             0.3333333333333333,
             "#9c179e"
            ],
            [
             0.4444444444444444,
             "#bd3786"
            ],
            [
             0.5555555555555556,
             "#d8576b"
            ],
            [
             0.6666666666666666,
             "#ed7953"
            ],
            [
             0.7777777777777778,
             "#fb9f3a"
            ],
            [
             0.8888888888888888,
             "#fdca26"
            ],
            [
             1,
             "#f0f921"
            ]
           ],
           "sequentialminus": [
            [
             0,
             "#0d0887"
            ],
            [
             0.1111111111111111,
             "#46039f"
            ],
            [
             0.2222222222222222,
             "#7201a8"
            ],
            [
             0.3333333333333333,
             "#9c179e"
            ],
            [
             0.4444444444444444,
             "#bd3786"
            ],
            [
             0.5555555555555556,
             "#d8576b"
            ],
            [
             0.6666666666666666,
             "#ed7953"
            ],
            [
             0.7777777777777778,
             "#fb9f3a"
            ],
            [
             0.8888888888888888,
             "#fdca26"
            ],
            [
             1,
             "#f0f921"
            ]
           ]
          },
          "colorway": [
           "#636efa",
           "#EF553B",
           "#00cc96",
           "#ab63fa",
           "#FFA15A",
           "#19d3f3",
           "#FF6692",
           "#B6E880",
           "#FF97FF",
           "#FECB52"
          ],
          "font": {
           "color": "#2a3f5f"
          },
          "geo": {
           "bgcolor": "white",
           "lakecolor": "white",
           "landcolor": "#E5ECF6",
           "showlakes": true,
           "showland": true,
           "subunitcolor": "white"
          },
          "hoverlabel": {
           "align": "left"
          },
          "hovermode": "closest",
          "mapbox": {
           "style": "light"
          },
          "paper_bgcolor": "white",
          "plot_bgcolor": "#E5ECF6",
          "polar": {
           "angularaxis": {
            "gridcolor": "white",
            "linecolor": "white",
            "ticks": ""
           },
           "bgcolor": "#E5ECF6",
           "radialaxis": {
            "gridcolor": "white",
            "linecolor": "white",
            "ticks": ""
           }
          },
          "scene": {
           "xaxis": {
            "backgroundcolor": "#E5ECF6",
            "gridcolor": "white",
            "gridwidth": 2,
            "linecolor": "white",
            "showbackground": true,
            "ticks": "",
            "zerolinecolor": "white"
           },
           "yaxis": {
            "backgroundcolor": "#E5ECF6",
            "gridcolor": "white",
            "gridwidth": 2,
            "linecolor": "white",
            "showbackground": true,
            "ticks": "",
            "zerolinecolor": "white"
           },
           "zaxis": {
            "backgroundcolor": "#E5ECF6",
            "gridcolor": "white",
            "gridwidth": 2,
            "linecolor": "white",
            "showbackground": true,
            "ticks": "",
            "zerolinecolor": "white"
           }
          },
          "shapedefaults": {
           "line": {
            "color": "#2a3f5f"
           }
          },
          "ternary": {
           "aaxis": {
            "gridcolor": "white",
            "linecolor": "white",
            "ticks": ""
           },
           "baxis": {
            "gridcolor": "white",
            "linecolor": "white",
            "ticks": ""
           },
           "bgcolor": "#E5ECF6",
           "caxis": {
            "gridcolor": "white",
            "linecolor": "white",
            "ticks": ""
           }
          },
          "title": {
           "x": 0.05
          },
          "xaxis": {
           "automargin": true,
           "gridcolor": "white",
           "linecolor": "white",
           "ticks": "",
           "title": {
            "standoff": 15
           },
           "zerolinecolor": "white",
           "zerolinewidth": 2
          },
          "yaxis": {
           "automargin": true,
           "gridcolor": "white",
           "linecolor": "white",
           "ticks": "",
           "title": {
            "standoff": 15
           },
           "zerolinecolor": "white",
           "zerolinewidth": 2
          }
         }
        },
        "title": {
         "text": "Start/End Ratio by Community"
        },
        "xaxis": {
         "anchor": "y",
         "autorange": true,
         "domain": [
          0,
          1
         ],
         "range": [
          -0.5,
          3.5
         ],
         "title": {
          "text": "Community"
         },
         "type": "linear"
        },
        "yaxis": {
         "anchor": "x",
         "autorange": true,
         "domain": [
          0,
          1
         ],
         "range": [
          0,
          1.0831213776793462
         ],
         "title": {
          "text": "Start/End Ratio"
         },
         "type": "linear"
        }
       }
      },
      "image/png": "[encoded data removed]",
      "text/html": [
       "<div>                            <div id=\"6d99203d-66c1-4b1f-bf5f-358940249d4c\" class=\"plotly-graph-div\" style=\"height:525px; width:100%;\"></div>            <script type=\"text/javascript\">                require([\"plotly\"], function(Plotly) {                    window.PLOTLYENV=window.PLOTLYENV || {};                                    if (document.getElementById(\"6d99203d-66c1-4b1f-bf5f-358940249d4c\")) {                    Plotly.newPlot(                        \"6d99203d-66c1-4b1f-bf5f-358940249d4c\",                        [{\"alignmentgroup\":\"True\",\"customdata\":[[65483,64135,129618],[61279,59554,120833],[51615,53526,105141],[33200,34362,67562]],\"hovertemplate\":\"Community=%{x}\\u003cbr\\u003eStart\\u002fEnd Ratio=%{y}\\u003cbr\\u003eStart Count=%{customdata[0]}\\u003cbr\\u003eEnd Count=%{customdata[1]}\\u003cbr\\u003eTotal Trips=%{customdata[2]}\\u003cextra\\u003e\\u003c\\u002fextra\\u003e\",\"legendgroup\":\"\",\"marker\":{\"color\":\"#636efa\",\"pattern\":{\"shape\":\"\"}},\"name\":\"\",\"offsetgroup\":\"\",\"orientation\":\"v\",\"showlegend\":false,\"textposition\":\"auto\",\"x\":[1,0,2,3],\"xaxis\":\"x\",\"y\":[1.0210181648086067,1.028965308795379,0.9642977244703509,0.966183574879227],\"yaxis\":\"y\",\"type\":\"bar\"}],                        {\"template\":{\"data\":{\"histogram2dcontour\":[{\"type\":\"histogram2dcontour\",\"colorbar\":{\"outlinewidth\":0,\"ticks\":\"\"},\"colorscale\":[[0.0,\"#0d0887\"],[0.1111111111111111,\"#46039f\"],[0.2222222222222222,\"#7201a8\"],[0.3333333333333333,\"#9c179e\"],[0.4444444444444444,\"#bd3786\"],[0.5555555555555556,\"#d8576b\"],[0.6666666666666666,\"#ed7953\"],[0.7777777777777778,\"#fb9f3a\"],[0.8888888888888888,\"#fdca26\"],[1.0,\"#f0f921\"]]}],\"choropleth\":[{\"type\":\"choropleth\",\"colorbar\":{\"outlinewidth\":0,\"ticks\":\"\"}}],\"histogram2d\":[{\"type\":\"histogram2d\",\"colorbar\":{\"outlinewidth\":0,\"ticks\":\"\"},\"colorscale\":[[0.0,\"#0d0887\"],[0.1111111111111111,\"#46039f\"],[0.2222222222222222,\"#7201a8\"],[0.3333333333333333,\"#9c179e\"],[0.4444444444444444,\"#bd3786\"],[0.5555555555555556,\"#d8576b\"],[0.6666666666666666,\"#ed7953\"],[0.7777777777777778,\"#fb9f3a\"],[0.8888888888888888,\"#fdca26\"],[1.0,\"#f0f921\"]]}],\"heatmap\":[{\"type\":\"heatmap\",\"colorbar\":{\"outlinewidth\":0,\"ticks\":\"\"},\"colorscale\":[[0.0,\"#0d0887\"],[0.1111111111111111,\"#46039f\"],[0.2222222222222222,\"#7201a8\"],[0.3333333333333333,\"#9c179e\"],[0.4444444444444444,\"#bd3786\"],[0.5555555555555556,\"#d8576b\"],[0.6666666666666666,\"#ed7953\"],[0.7777777777777778,\"#fb9f3a\"],[0.8888888888888888,\"#fdca26\"],[1.0,\"#f0f921\"]]}],\"heatmapgl\":[{\"type\":\"heatmapgl\",\"colorbar\":{\"outlinewidth\":0,\"ticks\":\"\"},\"colorscale\":[[0.0,\"#0d0887\"],[0.1111111111111111,\"#46039f\"],[0.2222222222222222,\"#7201a8\"],[0.3333333333333333,\"#9c179e\"],[0.4444444444444444,\"#bd3786\"],[0.5555555555555556,\"#d8576b\"],[0.6666666666666666,\"#ed7953\"],[0.7777777777777778,\"#fb9f3a\"],[0.8888888888888888,\"#fdca26\"],[1.0,\"#f0f921\"]]}],\"contourcarpet\":[{\"type\":\"contourcarpet\",\"colorbar\":{\"outlinewidth\":0,\"ticks\":\"\"}}],\"contour\":[{\"type\":\"contour\",\"colorbar\":{\"outlinewidth\":0,\"ticks\":\"\"},\"colorscale\":[[0.0,\"#0d0887\"],[0.1111111111111111,\"#46039f\"],[0.2222222222222222,\"#7201a8\"],[0.3333333333333333,\"#9c179e\"],[0.4444444444444444,\"#bd3786\"],[0.5555555555555556,\"#d8576b\"],[0.6666666666666666,\"#ed7953\"],[0.7777777777777778,\"#fb9f3a\"],[0.8888888888888888,\"#fdca26\"],[1.0,\"#f0f921\"]]}],\"surface\":[{\"type\":\"surface\",\"colorbar\":{\"outlinewidth\":0,\"ticks\":\"\"},\"colorscale\":[[0.0,\"#0d0887\"],[0.1111111111111111,\"#46039f\"],[0.2222222222222222,\"#7201a8\"],[0.3333333333333333,\"#9c179e\"],[0.4444444444444444,\"#bd3786\"],[0.5555555555555556,\"#d8576b\"],[0.6666666666666666,\"#ed7953\"],[0.7777777777777778,\"#fb9f3a\"],[0.8888888888888888,\"#fdca26\"],[1.0,\"#f0f921\"]]}],\"mesh3d\":[{\"type\":\"mesh3d\",\"colorbar\":{\"outlinewidth\":0,\"ticks\":\"\"}}],\"scatter\":[{\"fillpattern\":{\"fillmode\":\"overlay\",\"size\":10,\"solidity\":0.2},\"type\":\"scatter\"}],\"parcoords\":[{\"type\":\"parcoords\",\"line\":{\"colorbar\":{\"outlinewidth\":0,\"ticks\":\"\"}}}],\"scatterpolargl\":[{\"type\":\"scatterpolargl\",\"marker\":{\"colorbar\":{\"outlinewidth\":0,\"ticks\":\"\"}}}],\"bar\":[{\"error_x\":{\"color\":\"#2a3f5f\"},\"error_y\":{\"color\":\"#2a3f5f\"},\"marker\":{\"line\":{\"color\":\"#E5ECF6\",\"width\":0.5},\"pattern\":{\"fillmode\":\"overlay\",\"size\":10,\"solidity\":0.2}},\"type\":\"bar\"}],\"scattergeo\":[{\"type\":\"scattergeo\",\"marker\":{\"colorbar\":{\"outlinewidth\":0,\"ticks\":\"\"}}}],\"scatterpolar\":[{\"type\":\"scatterpolar\",\"marker\":{\"colorbar\":{\"outlinewidth\":0,\"ticks\":\"\"}}}],\"histogram\":[{\"marker\":{\"pattern\":{\"fillmode\":\"overlay\",\"size\":10,\"solidity\":0.2}},\"type\":\"histogram\"}],\"scattergl\":[{\"type\":\"scattergl\",\"marker\":{\"colorbar\":{\"outlinewidth\":0,\"ticks\":\"\"}}}],\"scatter3d\":[{\"type\":\"scatter3d\",\"line\":{\"colorbar\":{\"outlinewidth\":0,\"ticks\":\"\"}},\"marker\":{\"colorbar\":{\"outlinewidth\":0,\"ticks\":\"\"}}}],\"scattermapbox\":[{\"type\":\"scattermapbox\",\"marker\":{\"colorbar\":{\"outlinewidth\":0,\"ticks\":\"\"}}}],\"scatterternary\":[{\"type\":\"scatterternary\",\"marker\":{\"colorbar\":{\"outlinewidth\":0,\"ticks\":\"\"}}}],\"scattercarpet\":[{\"type\":\"scattercarpet\",\"marker\":{\"colorbar\":{\"outlinewidth\":0,\"ticks\":\"\"}}}],\"carpet\":[{\"aaxis\":{\"endlinecolor\":\"#2a3f5f\",\"gridcolor\":\"white\",\"linecolor\":\"white\",\"minorgridcolor\":\"white\",\"startlinecolor\":\"#2a3f5f\"},\"baxis\":{\"endlinecolor\":\"#2a3f5f\",\"gridcolor\":\"white\",\"linecolor\":\"white\",\"minorgridcolor\":\"white\",\"startlinecolor\":\"#2a3f5f\"},\"type\":\"carpet\"}],\"table\":[{\"cells\":{\"fill\":{\"color\":\"#EBF0F8\"},\"line\":{\"color\":\"white\"}},\"header\":{\"fill\":{\"color\":\"#C8D4E3\"},\"line\":{\"color\":\"white\"}},\"type\":\"table\"}],\"barpolar\":[{\"marker\":{\"line\":{\"color\":\"#E5ECF6\",\"width\":0.5},\"pattern\":{\"fillmode\":\"overlay\",\"size\":10,\"solidity\":0.2}},\"type\":\"barpolar\"}],\"pie\":[{\"automargin\":true,\"type\":\"pie\"}]},\"layout\":{\"autotypenumbers\":\"strict\",\"colorway\":[\"#636efa\",\"#EF553B\",\"#00cc96\",\"#ab63fa\",\"#FFA15A\",\"#19d3f3\",\"#FF6692\",\"#B6E880\",\"#FF97FF\",\"#FECB52\"],\"font\":{\"color\":\"#2a3f5f\"},\"hovermode\":\"closest\",\"hoverlabel\":{\"align\":\"left\"},\"paper_bgcolor\":\"white\",\"plot_bgcolor\":\"#E5ECF6\",\"polar\":{\"bgcolor\":\"#E5ECF6\",\"angularaxis\":{\"gridcolor\":\"white\",\"linecolor\":\"white\",\"ticks\":\"\"},\"radialaxis\":{\"gridcolor\":\"white\",\"linecolor\":\"white\",\"ticks\":\"\"}},\"ternary\":{\"bgcolor\":\"#E5ECF6\",\"aaxis\":{\"gridcolor\":\"white\",\"linecolor\":\"white\",\"ticks\":\"\"},\"baxis\":{\"gridcolor\":\"white\",\"linecolor\":\"white\",\"ticks\":\"\"},\"caxis\":{\"gridcolor\":\"white\",\"linecolor\":\"white\",\"ticks\":\"\"}},\"coloraxis\":{\"colorbar\":{\"outlinewidth\":0,\"ticks\":\"\"}},\"colorscale\":{\"sequential\":[[0.0,\"#0d0887\"],[0.1111111111111111,\"#46039f\"],[0.2222222222222222,\"#7201a8\"],[0.3333333333333333,\"#9c179e\"],[0.4444444444444444,\"#bd3786\"],[0.5555555555555556,\"#d8576b\"],[0.6666666666666666,\"#ed7953\"],[0.7777777777777778,\"#fb9f3a\"],[0.8888888888888888,\"#fdca26\"],[1.0,\"#f0f921\"]],\"sequentialminus\":[[0.0,\"#0d0887\"],[0.1111111111111111,\"#46039f\"],[0.2222222222222222,\"#7201a8\"],[0.3333333333333333,\"#9c179e\"],[0.4444444444444444,\"#bd3786\"],[0.5555555555555556,\"#d8576b\"],[0.6666666666666666,\"#ed7953\"],[0.7777777777777778,\"#fb9f3a\"],[0.8888888888888888,\"#fdca26\"],[1.0,\"#f0f921\"]],\"diverging\":[[0,\"#8e0152\"],[0.1,\"#c51b7d\"],[0.2,\"#de77ae\"],[0.3,\"#f1b6da\"],[0.4,\"#fde0ef\"],[0.5,\"#f7f7f7\"],[0.6,\"#e6f5d0\"],[0.7,\"#b8e186\"],[0.8,\"#7fbc41\"],[0.9,\"#4d9221\"],[1,\"#276419\"]]},\"xaxis\":{\"gridcolor\":\"white\",\"linecolor\":\"white\",\"ticks\":\"\",\"title\":{\"standoff\":15},\"zerolinecolor\":\"white\",\"automargin\":true,\"zerolinewidth\":2},\"yaxis\":{\"gridcolor\":\"white\",\"linecolor\":\"white\",\"ticks\":\"\",\"title\":{\"standoff\":15},\"zerolinecolor\":\"white\",\"automargin\":true,\"zerolinewidth\":2},\"scene\":{\"xaxis\":{\"backgroundcolor\":\"#E5ECF6\",\"gridcolor\":\"white\",\"linecolor\":\"white\",\"showbackground\":true,\"ticks\":\"\",\"zerolinecolor\":\"white\",\"gridwidth\":2},\"yaxis\":{\"backgroundcolor\":\"#E5ECF6\",\"gridcolor\":\"white\",\"linecolor\":\"white\",\"showbackground\":true,\"ticks\":\"\",\"zerolinecolor\":\"white\",\"gridwidth\":2},\"zaxis\":{\"backgroundcolor\":\"#E5ECF6\",\"gridcolor\":\"white\",\"linecolor\":\"white\",\"showbackground\":true,\"ticks\":\"\",\"zerolinecolor\":\"white\",\"gridwidth\":2}},\"shapedefaults\":{\"line\":{\"color\":\"#2a3f5f\"}},\"annotationdefaults\":{\"arrowcolor\":\"#2a3f5f\",\"arrowhead\":0,\"arrowwidth\":1},\"geo\":{\"bgcolor\":\"white\",\"landcolor\":\"#E5ECF6\",\"subunitcolor\":\"white\",\"showland\":true,\"showlakes\":true,\"lakecolor\":\"white\"},\"title\":{\"x\":0.05},\"mapbox\":{\"style\":\"light\"}}},\"xaxis\":{\"anchor\":\"y\",\"domain\":[0.0,1.0],\"title\":{\"text\":\"Community\"}},\"yaxis\":{\"anchor\":\"x\",\"domain\":[0.0,1.0],\"title\":{\"text\":\"Start\\u002fEnd Ratio\"}},\"legend\":{\"tracegroupgap\":0},\"title\":{\"text\":\"Start\\u002fEnd Ratio by Community\"},\"barmode\":\"relative\"},                        {\"responsive\": true}                    ).then(function(){\n",
       "                            \n",
       "var gd = document.getElementById('6d99203d-66c1-4b1f-bf5f-358940249d4c');\n",
       "var x = new MutationObserver(function (mutations, observer) {{\n",
       "        var display = window.getComputedStyle(gd).display;\n",
       "        if (!display || display === 'none') {{\n",
       "            console.log([gd, 'removed!']);\n",
       "            Plotly.purge(gd);\n",
       "            observer.disconnect();\n",
       "        }}\n",
       "}});\n",
       "\n",
       "// Listen for the removal of the full notebook cells\n",
       "var notebookContainer = gd.closest('#notebook-container');\n",
       "if (notebookContainer) {{\n",
       "    x.observe(notebookContainer, {childList: true});\n",
       "}}\n",
       "\n",
       "// Listen for the clearing of the current output cell\n",
       "var outputEl = gd.closest('.output');\n",
       "if (outputEl) {{\n",
       "    x.observe(outputEl, {childList: true});\n",
       "}}\n",
       "\n",
       "                        })                };                });            </script>        </div>"
      ]
     },
     "metadata": {},
     "output_type": "display_data"
    }
   ],
   "source": [
    "import plotly.express as px\n",
    "import pandas as pd\n",
    "\n",
    "file_path = 'Data/Results/station_trip_counts_with_communities.csv'\n",
    "df = pd.read_csv(file_path)\n",
    "# Create a bar plot for total trips by community\n",
    "fig = px.bar(\n",
    "    community_trip_counts_sorted,\n",
    "    x='Community', \n",
    "    y='Total Trips',\n",
    "    title='Total Trips by Community',\n",
    "    labels={'Community': 'Community', 'Total Trips': 'Total Trips'},\n",
    "    hover_data={'Start Count': True, 'End Count': True, 'Start/End': True}\n",
    ")\n",
    "fig.show()\n",
    "# Save the plot as an HTML file\n",
    "fig.write_html('Data/Results/Total_trips_per_community.html')\n",
    "\n",
    "# Create a bar plot for Start/End ratio by community\n",
    "fig = px.bar(\n",
    "    community_trip_counts_sorted,\n",
    "    x='Community',\n",
    "    y='Start/End',\n",
    "    title='Start/End Ratio by Community',\n",
    "    labels={'Community': 'Community', 'Start/End': 'Start/End Ratio'},\n",
    "    hover_data={'Start Count': True, 'End Count': True, 'Total Trips': True}\n",
    ")\n",
    "fig.show()\n",
    "# Save the plot as an HTML file\n",
    "fig.write_html('Data/Results/start_end_ratio_for_each_community.html')\n"
   ]
  },
  {
   "cell_type": "code",
   "execution_count": 19,
   "id": "d9f2e2a2-d8a3-45b2-a536-4f240d17cbd1",
   "metadata": {
    "tags": []
   },
   "outputs": [
    {
     "name": "stdout",
     "output_type": "stream",
     "text": [
      "Community_end        0      1      2      3\n",
      "Community_start                            \n",
      "0                34559  11317   7050   8353\n",
      "1                11539  36599  13284   4061\n",
      "2                 6119  12367  27563   5566\n",
      "3                 7337   3852   5629  16382\n"
     ]
    }
   ],
   "source": [
    "df = pd.read_csv('Data/Processed data/trip_data_with_communities.csv')\n",
    "\n",
    "# Create a pivot table to see trips between communities\n",
    "inter_community_trips = df.pivot_table(\n",
    "    index='Community_start',\n",
    "    columns='Community_end',\n",
    "    values='Number',  # Or use any other metric, like Total Trips\n",
    "    aggfunc='count',\n",
    "    fill_value=0\n",
    ")\n",
    "\n",
    "print(inter_community_trips)\n"
   ]
  },
  {
   "cell_type": "code",
   "execution_count": 24,
   "id": "a74f0149-2c66-4a1b-81bb-4e51fcc8cd64",
   "metadata": {
    "tags": []
   },
   "outputs": [
    {
     "data": {
      "image/png": "[encoded data removed]",
      "text/plain": [
       "<Figure size 1000x800 with 2 Axes>"
      ]
     },
     "metadata": {},
     "output_type": "display_data"
    }
   ],
   "source": [
    "import seaborn as sns\n",
    "import matplotlib.pyplot as plt\n",
    "\n",
    "# Plot a heatmap for the inter-community travel patterns\n",
    "plt.figure(figsize=(10, 8))\n",
    "sns.heatmap(inter_community_trips, annot=True, fmt=\"d\", cmap=\"YlGnBu\")\n",
    "plt.title('Inter-Community Travel Patterns')\n",
    "plt.xlabel('Destination Community')\n",
    "plt.ylabel('Origin Community')\n",
    "\n",
    "# Save the plot to a file before showing it\n",
    "plt.savefig('Data/Results/Inter-community_travel_patterns.png')\n",
    "\n",
    "# Show the plot\n",
    "plt.show()\n"
   ]
  }
 ],
 "metadata": {
  "kernelspec": {
   "display_name": "Python 3 (ipykernel)",
   "language": "python",
   "name": "python3"
  },
  "language_info": {
   "codemirror_mode": {
    "name": "ipython",
    "version": 3
   },
   "file_extension": ".py",
   "mimetype": "text/x-python",
   "name": "python",
   "nbconvert_exporter": "python",
   "pygments_lexer": "ipython3",
   "version": "3.11.8"
  }
 },
 "nbformat": 4,
 "nbformat_minor": 5
}
