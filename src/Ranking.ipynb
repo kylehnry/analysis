{
 "cells": [
  {
   "cell_type": "code",
   "execution_count": 8,
   "metadata": {},
   "outputs": [],
   "source": [
    "import pandas as pd\n",
    "\n",
    "# Load the datasets\n",
    "metrics_stations_over_day = pd.read_csv('Data/Results/metrics_stations_over_day.csv')\n",
    "station_trip_counts_with_communities = pd.read_csv('Data/Results/station_trip_counts_with_communities.csv')\n",
    "average_trip_duration_per_station = pd.read_csv('Data/Results/average_trip_duration_per_station.csv')\n",
    "\n",
    "# Extract the fullness deviation and utilization at hours 8 and 17 from metrics_stations_over_day\n",
    "fullness_utilization = metrics_stations_over_day[metrics_stations_over_day['hour'].isin([8, 17])]\n",
    "\n",
    "# Pivot the dataframe to get separate columns for each hour\n",
    "fullness_utilization_pivot = fullness_utilization.pivot(index='station', columns='hour', \n",
    "                                                        values=['fullness_deviation', 'Utilisation_avg'])\n",
    "\n",
    "# Flatten the columns\n",
    "fullness_utilization_pivot.columns = [f'{val}_at_{hour}' for val, hour in fullness_utilization_pivot.columns]\n",
    "\n",
    "# Merge with the station_trip_counts_with_communities and average_trip_duration_per_station\n",
    "merged_df = station_trip_counts_with_communities.merge(fullness_utilization_pivot, left_on='Station', right_index=True)\n",
    "merged_df = merged_df.merge(average_trip_duration_per_station, left_on='Station', right_on='Station Name')\n",
    "\n",
    "# Drop unnecessary columns\n",
    "merged_df = merged_df.drop(columns=['Total Trips', 'Station Name'])\n",
    "\n",
    "# Rename the columns for clarity\n",
    "merged_df.rename(columns={\n",
    "    'Station': 'Station Name',\n",
    "    'Start/End': 'Start/End Ratio',\n",
    "    'Average Trip Duration (minutes)': 'Average Trip Duration (minutes)'\n",
    "}, inplace=True)\n",
    "\n",
    "# Optionally, save the result to a CSV file\n",
    "merged_df.to_csv('Data/Results/Results.csv', index=False)\n",
    "\n",
    "\n"
   ]
  },
  {
   "cell_type": "code",
   "execution_count": 9,
   "metadata": {},
   "outputs": [],
   "source": [
    "# Load the new dataset uploaded by the user\n",
    "results_df = pd.read_csv('Data/Results/Results.csv')\n",
    "\n",
    "# Rank the stations based on the provided metrics.\n",
    "# Assuming the following weights based on importance:\n",
    "# Fullness Deviation (8 or 17) - Weight: 0.4 each\n",
    "# Station Popularity (Start/End Ratio) - Weight: 0.2\n",
    "# Utilization (8 or 17) - Weight: 0.2 each\n",
    "# Trip Duration - Weight: 0.1\n",
    "\n",
    "# Normalize the metrics to be between 0 and 1\n",
    "results_df['normalized_fullness_8'] = results_df['fullness_deviation_at_8'] / results_df['fullness_deviation_at_8'].max()\n",
    "results_df['normalized_fullness_17'] = results_df['fullness_deviation_at_17'] / results_df['fullness_deviation_at_17'].max()\n",
    "results_df['normalized_popularity'] = results_df['Start/End Ratio'] / results_df['Start/End Ratio'].max()\n",
    "results_df['normalized_utilization_8'] = results_df['Utilisation_avg_at_8'] / results_df['Utilisation_avg_at_8'].max()\n",
    "results_df['normalized_utilization_17'] = results_df['Utilisation_avg_at_17'] / results_df['Utilisation_avg_at_17'].max()\n",
    "results_df['normalized_trip_duration'] = results_df['Average Trip Duration (minutes)'] / results_df['Average Trip Duration (minutes)'].max()\n",
    "\n",
    "# Calculate a weighted score for each station\n",
    "results_df['weighted_score'] = (0.4 * results_df['normalized_fullness_8'] +\n",
    "                                0.4 * results_df['normalized_fullness_17'] +\n",
    "                                0.2 * results_df['normalized_popularity'] +\n",
    "                                0.2 * results_df['normalized_utilization_8'] +\n",
    "                                0.2 * results_df['normalized_utilization_17'] +\n",
    "                                0.1 * results_df['normalized_trip_duration'])\n",
    "\n",
    "# Rank the stations based on the weighted score\n",
    "results_df['rank'] = results_df['weighted_score'].rank(ascending=False)\n",
    "\n",
    "# Sort by rank\n",
    "ranked_stations = results_df.sort_values(by='rank')\n",
    "\n",
    "# Save the ranked stations to a CSV file\n",
    "output_ranked_file_path = 'Data/Results/Results_ranked.csv'\n",
    "ranked_stations.to_csv(output_ranked_file_path, index=False)\n",
    "\n"
   ]
  },
  {
   "cell_type": "code",
   "execution_count": null,
   "metadata": {},
   "outputs": [],
   "source": []
  }
 ],
 "metadata": {
  "kernelspec": {
   "display_name": "base",
   "language": "python",
   "name": "python3"
  },
  "language_info": {
   "codemirror_mode": {
    "name": "ipython",
    "version": 3
   },
   "file_extension": ".py",
   "mimetype": "text/x-python",
   "name": "python",
   "nbconvert_exporter": "python",
   "pygments_lexer": "ipython3",
   "version": "3.11.8"
  }
 },
 "nbformat": 4,
 "nbformat_minor": 2
}
